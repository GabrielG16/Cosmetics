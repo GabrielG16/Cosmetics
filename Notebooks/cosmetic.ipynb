{
 "cells": [
  {
   "cell_type": "markdown",
   "id": "f474cce4-d204-420c-82e4-f89d1661f5a3",
   "metadata": {},
   "source": [
    "# Imports"
   ]
  },
  {
   "cell_type": "code",
   "execution_count": 264,
   "id": "9e538d82-fae5-4f4d-831a-9231aa58389e",
   "metadata": {},
   "outputs": [
    {
     "ename": "ImportError",
     "evalue": "cannot import name 'strip' from 'string' (/home/gabriel/anaconda3/envs/co2-env/lib/python3.10/string.py)",
     "output_type": "error",
     "traceback": [
      "\u001b[0;31m---------------------------------------------------------------------------\u001b[0m",
      "\u001b[0;31mImportError\u001b[0m                               Traceback (most recent call last)",
      "Input \u001b[0;32mIn [264]\u001b[0m, in \u001b[0;36m<cell line: 19>\u001b[0;34m()\u001b[0m\n\u001b[1;32m     17\u001b[0m \u001b[38;5;28;01mfrom\u001b[39;00m \u001b[38;5;21;01mcollections\u001b[39;00m \u001b[38;5;28;01mimport\u001b[39;00m Counter\n\u001b[1;32m     18\u001b[0m \u001b[38;5;28;01mfrom\u001b[39;00m \u001b[38;5;21;01mtqdm\u001b[39;00m \u001b[38;5;28;01mimport\u001b[39;00m tqdm\n\u001b[0;32m---> 19\u001b[0m \u001b[38;5;28;01mfrom\u001b[39;00m \u001b[38;5;21;01mstring\u001b[39;00m \u001b[38;5;28;01mimport\u001b[39;00m strip\n\u001b[1;32m     21\u001b[0m \u001b[38;5;66;03m# Separação treino-teste-validação e tunagem de hiperparâmetros\u001b[39;00m\n\u001b[1;32m     22\u001b[0m \u001b[38;5;28;01mfrom\u001b[39;00m \u001b[38;5;21;01msklearn\u001b[39;00m\u001b[38;5;21;01m.\u001b[39;00m\u001b[38;5;21;01mmodel_selection\u001b[39;00m \u001b[38;5;28;01mimport\u001b[39;00m (train_test_split, \n\u001b[1;32m     23\u001b[0m                                      cross_validate, \n\u001b[1;32m     24\u001b[0m                                      cross_val_score,\n\u001b[1;32m     25\u001b[0m                                      StratifiedKFold,\n\u001b[1;32m     26\u001b[0m                                      RandomizedSearchCV)\n",
      "\u001b[0;31mImportError\u001b[0m: cannot import name 'strip' from 'string' (/home/gabriel/anaconda3/envs/co2-env/lib/python3.10/string.py)"
     ]
    }
   ],
   "source": [
    "#SQL\n",
    "import psycopg2\n",
    "from credentials import HOST, DB, USR, PASS\n",
    "\n",
    "#ETL\n",
    "import pandas as pd\n",
    "import numpy as np\n",
    "\n",
    "#Gráficos\n",
    "import matplotlib as mpl\n",
    "from matplotlib import pyplot as plt\n",
    "import seaborn as sns\n",
    "\n",
    "#Miscellania\n",
    "import missingno as msno\n",
    "import warnings\n",
    "from collections import Counter\n",
    "from tqdm import tqdm\n",
    "\n",
    "# Separação treino-teste-validação e tunagem de hiperparâmetros\n",
    "from sklearn.model_selection import (train_test_split, \n",
    "                                     cross_validate, \n",
    "                                     cross_val_score,\n",
    "                                     StratifiedKFold,\n",
    "                                     RandomizedSearchCV)\n",
    "from sklearn.feature_selection import RFE\n",
    "\n",
    "# Balanceamento Dados\n",
    "from imblearn.under_sampling import NearMiss, RandomUnderSampler\n",
    "from imblearn.over_sampling import SMOTE\n",
    "\n",
    "#Scalers\n",
    "from sklearn.preprocessing import (StandardScaler, \n",
    "                                   MinMaxScaler,\n",
    "                                   OrdinalEncoder, \n",
    "                                   OneHotEncoder, \n",
    "                                  MultiLabelBinarizer)\n",
    "\n",
    "#Pipelines\n",
    "from sklearn.compose import ColumnTransformer\n",
    "from sklearn.pipeline import Pipeline\n",
    "\n",
    "#Modelos\n",
    "from sklearn.linear_model import LogisticRegression\n",
    "from sklearn.naive_bayes import GaussianNB\n",
    "from sklearn.neighbors import KNeighborsClassifier\n",
    "from sklearn.tree import DecisionTreeClassifier, ExtraTreeClassifier\n",
    "from sklearn.svm import SVC\n",
    "from sklearn.ensemble import RandomForestClassifier, GradientBoostingClassifier, AdaBoostClassifier\n",
    "from xgboost import XGBClassifier\n",
    "from catboost import CatBoostClassifier\n",
    "\n",
    "#Métricas\n",
    "from sklearn.metrics import (accuracy_score, \n",
    "                             roc_auc_score, \n",
    "                             precision_score, \n",
    "                             recall_score, \n",
    "                             f1_score, \n",
    "                             confusion_matrix,\n",
    "                             plot_confusion_matrix,\n",
    "                             plot_roc_curve,\n",
    "                             roc_curve,\n",
    "                             classification_report,\n",
    "                             roc_auc_score,\n",
    "                             SCORERS)\n",
    "\n",
    "from sklearn.inspection import permutation_importance\n",
    "\n",
    "import pickle"
   ]
  },
  {
   "cell_type": "code",
   "execution_count": 199,
   "id": "67d97695-dd5b-4dd2-b783-9626315502fb",
   "metadata": {},
   "outputs": [],
   "source": [
    "warnings.filterwarnings('ignore')\n",
    "sns.set_style('darkgrid')\n",
    "mpl.rcParams['figure.figsize'] = (12,6)"
   ]
  },
  {
   "cell_type": "markdown",
   "id": "93e1da7c-f355-4e74-82c3-5e7670663f0d",
   "metadata": {},
   "source": [
    "# Coleta de Dados"
   ]
  },
  {
   "cell_type": "code",
   "execution_count": 139,
   "id": "8da16bb2-7ad0-4bc4-bd39-0c23c0f7edb0",
   "metadata": {},
   "outputs": [],
   "source": [
    "#Dados de conexão no banco\n",
    "host     = HOST\n",
    "db       = DB\n",
    "usr      = USR\n",
    "port     = '5432'\n",
    "password = PASS\n",
    "\n",
    "conn_string = f'host={host} user={usr} dbname={db} password ={password} port={port}'"
   ]
  },
  {
   "cell_type": "code",
   "execution_count": 5,
   "id": "34729d69-14fa-4c45-91d7-5f09ddc29f37",
   "metadata": {},
   "outputs": [],
   "source": [
    "# Estabelecer conexão com o banco\n",
    "conn = psycopg2.connect(conn_string)"
   ]
  },
  {
   "cell_type": "code",
   "execution_count": 6,
   "id": "717fce96-c00b-41ae-81c1-eae1b0aafe82",
   "metadata": {},
   "outputs": [],
   "source": [
    "#Criação de cursor\n",
    "cursor = conn.cursor()\n",
    "\n",
    "#Query de coleta de todos dados\n",
    "query = \"\"\"SELECT DISTINCT f.*, o.id_pedido, o.status_pagamento, o.data_pedido,\n",
    "            CASE WHEN o.status_pagamento is NULL THEN 0\n",
    "                 WHEN o.status_pagamento = 'Cancelado' THEN 0\n",
    "                 ELSE 1\n",
    "                 END as target\n",
    "            FROM forms f\n",
    "            LEFT JOIN order_items oi\n",
    "            ON f.id_form = oi.id_form\n",
    "            LEFT JOIN orders o\n",
    "            ON oi.id_pedido = o.id_pedido;\"\"\""
   ]
  },
  {
   "cell_type": "code",
   "execution_count": null,
   "id": "89eaaf07-eb4a-47b9-ae48-01049d6894fe",
   "metadata": {},
   "outputs": [],
   "source": [
    "cursor.execute(query)"
   ]
  },
  {
   "cell_type": "code",
   "execution_count": null,
   "id": "095f5a7f-681d-4e21-94bd-4da2f7c0f2b9",
   "metadata": {},
   "outputs": [],
   "source": [
    "#Get rows\n",
    "rows = cursor.fetchall()"
   ]
  },
  {
   "cell_type": "code",
   "execution_count": null,
   "id": "87353902-3e8d-4e26-be86-2e704c4a7352",
   "metadata": {},
   "outputs": [],
   "source": [
    "#Get Columns\n",
    "cols = []\n",
    "for col in cursor.description:\n",
    "    cols.append(col[0])"
   ]
  },
  {
   "cell_type": "code",
   "execution_count": null,
   "id": "8cc18470-d6d9-467a-bc07-c36f32309cb0",
   "metadata": {},
   "outputs": [],
   "source": [
    "conn.close()"
   ]
  },
  {
   "cell_type": "code",
   "execution_count": null,
   "id": "f7df5c9d-dba2-433d-89e3-dda77e75c7ea",
   "metadata": {},
   "outputs": [],
   "source": [
    "cosmetics = pd.DataFrame(rows, columns = cols)"
   ]
  },
  {
   "cell_type": "markdown",
   "id": "3b8d3765-98f8-464b-8ec0-f43329866cb6",
   "metadata": {
    "tags": []
   },
   "source": [
    "## Carregando base localmente"
   ]
  },
  {
   "cell_type": "code",
   "execution_count": 200,
   "id": "f385f866-adf0-46d3-8473-183a47d336d3",
   "metadata": {},
   "outputs": [],
   "source": [
    "cosmetics = pd.read_csv('../data/dados_py.csv')"
   ]
  },
  {
   "cell_type": "code",
   "execution_count": 201,
   "id": "6a6ed3be-8dc7-473e-82cc-391cbba8d9de",
   "metadata": {},
   "outputs": [],
   "source": [
    "cosmetics.data = pd.to_datetime(cosmetics.data)"
   ]
  },
  {
   "cell_type": "markdown",
   "id": "2c8ea415-db5a-4564-9dd6-3a6b89fce4bc",
   "metadata": {},
   "source": [
    "## Visualização dos dados"
   ]
  },
  {
   "cell_type": "code",
   "execution_count": 202,
   "id": "c4e96c0e-d1c9-46fa-85f6-f9fb8529b678",
   "metadata": {
    "tags": []
   },
   "outputs": [
    {
     "data": {
      "text/html": [
       "<div>\n",
       "<style scoped>\n",
       "    .dataframe tbody tr th:only-of-type {\n",
       "        vertical-align: middle;\n",
       "    }\n",
       "\n",
       "    .dataframe tbody tr th {\n",
       "        vertical-align: top;\n",
       "    }\n",
       "\n",
       "    .dataframe thead th {\n",
       "        text-align: right;\n",
       "    }\n",
       "</style>\n",
       "<table border=\"1\" class=\"dataframe\">\n",
       "  <thead>\n",
       "    <tr style=\"text-align: right;\">\n",
       "      <th></th>\n",
       "      <th>id_form</th>\n",
       "      <th>id_cliente</th>\n",
       "      <th>data</th>\n",
       "      <th>sistema_operacional</th>\n",
       "      <th>navegador</th>\n",
       "      <th>localizacao</th>\n",
       "      <th>locale</th>\n",
       "      <th>cidade</th>\n",
       "      <th>estado</th>\n",
       "      <th>qtde_lavagem_semana</th>\n",
       "      <th>...</th>\n",
       "      <th>faixa_etaria</th>\n",
       "      <th>efeitos_desejados</th>\n",
       "      <th>fragancia</th>\n",
       "      <th>id_pedido</th>\n",
       "      <th>status_pagamento</th>\n",
       "      <th>data_pedido</th>\n",
       "      <th>target</th>\n",
       "      <th>mes</th>\n",
       "      <th>rec_form</th>\n",
       "      <th>rec_compra</th>\n",
       "    </tr>\n",
       "  </thead>\n",
       "  <tbody>\n",
       "    <tr>\n",
       "      <th>0</th>\n",
       "      <td>52a843d0b7e090a05fbf29dbc8b1a4</td>\n",
       "      <td>755e5d5efaa0de273687</td>\n",
       "      <td>2022-01-01 00:13:01</td>\n",
       "      <td>Android</td>\n",
       "      <td>Chrome</td>\n",
       "      <td>Curitiba, Parana</td>\n",
       "      <td>BR</td>\n",
       "      <td>CURITIBA</td>\n",
       "      <td>PARANA</td>\n",
       "      <td>2</td>\n",
       "      <td>...</td>\n",
       "      <td>18 a 24</td>\n",
       "      <td>Efeito 6, Efeito 2, Efeito 4, Efeito 3, Efeito 1</td>\n",
       "      <td>Rosas</td>\n",
       "      <td>NaN</td>\n",
       "      <td>NaN</td>\n",
       "      <td>NaN</td>\n",
       "      <td>0</td>\n",
       "      <td>1</td>\n",
       "      <td>0</td>\n",
       "      <td>0</td>\n",
       "    </tr>\n",
       "    <tr>\n",
       "      <th>1</th>\n",
       "      <td>0eec183ffa8b5ea2b50bad7247ef7a</td>\n",
       "      <td>af4f02a79c7f0a318dd3</td>\n",
       "      <td>2022-01-01 00:16:14</td>\n",
       "      <td>Android</td>\n",
       "      <td>Chrome</td>\n",
       "      <td>Curitiba, Parana</td>\n",
       "      <td>BR</td>\n",
       "      <td>CURITIBA</td>\n",
       "      <td>PARANA</td>\n",
       "      <td>4</td>\n",
       "      <td>...</td>\n",
       "      <td>11 a 17</td>\n",
       "      <td>Efeito 6, Efeito 7, Efeito 4, Efeito 1</td>\n",
       "      <td>Flores do campo</td>\n",
       "      <td>NaN</td>\n",
       "      <td>NaN</td>\n",
       "      <td>NaN</td>\n",
       "      <td>0</td>\n",
       "      <td>1</td>\n",
       "      <td>0</td>\n",
       "      <td>0</td>\n",
       "    </tr>\n",
       "    <tr>\n",
       "      <th>2</th>\n",
       "      <td>1c35d70c95b2d2c8f6be4ff6f84b96</td>\n",
       "      <td>67d9e56f53f9fb49af6f</td>\n",
       "      <td>2022-01-01 00:17:06</td>\n",
       "      <td>Android</td>\n",
       "      <td>Chrome</td>\n",
       "      <td>Montes Claros, Minas Gerais</td>\n",
       "      <td>BR</td>\n",
       "      <td>MONTES CLAROS</td>\n",
       "      <td>MINAS GERAIS</td>\n",
       "      <td>1</td>\n",
       "      <td>...</td>\n",
       "      <td>18 a 24</td>\n",
       "      <td>Efeito 6, Efeito 7, Efeito 8, Efeito 1, Efeito 5</td>\n",
       "      <td>Eucalipto</td>\n",
       "      <td>NaN</td>\n",
       "      <td>NaN</td>\n",
       "      <td>NaN</td>\n",
       "      <td>0</td>\n",
       "      <td>1</td>\n",
       "      <td>0</td>\n",
       "      <td>0</td>\n",
       "    </tr>\n",
       "    <tr>\n",
       "      <th>3</th>\n",
       "      <td>593a259a51f2f00a15db33946d6d65</td>\n",
       "      <td>e0d69ea9eb3a130f5766</td>\n",
       "      <td>2022-01-01 00:17:14</td>\n",
       "      <td>iOS</td>\n",
       "      <td>NaN</td>\n",
       "      <td>São Paulo, Sao Paulo</td>\n",
       "      <td>BR</td>\n",
       "      <td>SÃO PAULO</td>\n",
       "      <td>SAO PAULO</td>\n",
       "      <td>5</td>\n",
       "      <td>...</td>\n",
       "      <td>45 a 54</td>\n",
       "      <td>Efeito 1, Efeito 5, Efeito 7, Efeito 8</td>\n",
       "      <td>Rosas</td>\n",
       "      <td>NaN</td>\n",
       "      <td>NaN</td>\n",
       "      <td>NaN</td>\n",
       "      <td>0</td>\n",
       "      <td>1</td>\n",
       "      <td>0</td>\n",
       "      <td>0</td>\n",
       "    </tr>\n",
       "    <tr>\n",
       "      <th>4</th>\n",
       "      <td>44f20b125e4971eca764ccc4dadfcd</td>\n",
       "      <td>d687ea972ccb5373c605</td>\n",
       "      <td>2022-01-01 00:24:01</td>\n",
       "      <td>Android</td>\n",
       "      <td>Chrome</td>\n",
       "      <td>Curitiba, Parana</td>\n",
       "      <td>BR</td>\n",
       "      <td>CURITIBA</td>\n",
       "      <td>PARANA</td>\n",
       "      <td>2</td>\n",
       "      <td>...</td>\n",
       "      <td>18 a 24</td>\n",
       "      <td>Efeito 6, Efeito 2, Efeito 4, Efeito 3, Efeito 1</td>\n",
       "      <td>Rosas</td>\n",
       "      <td>NaN</td>\n",
       "      <td>NaN</td>\n",
       "      <td>NaN</td>\n",
       "      <td>0</td>\n",
       "      <td>1</td>\n",
       "      <td>0</td>\n",
       "      <td>0</td>\n",
       "    </tr>\n",
       "  </tbody>\n",
       "</table>\n",
       "<p>5 rows × 30 columns</p>\n",
       "</div>"
      ],
      "text/plain": [
       "                          id_form            id_cliente                data  \\\n",
       "0  52a843d0b7e090a05fbf29dbc8b1a4  755e5d5efaa0de273687 2022-01-01 00:13:01   \n",
       "1  0eec183ffa8b5ea2b50bad7247ef7a  af4f02a79c7f0a318dd3 2022-01-01 00:16:14   \n",
       "2  1c35d70c95b2d2c8f6be4ff6f84b96  67d9e56f53f9fb49af6f 2022-01-01 00:17:06   \n",
       "3  593a259a51f2f00a15db33946d6d65  e0d69ea9eb3a130f5766 2022-01-01 00:17:14   \n",
       "4  44f20b125e4971eca764ccc4dadfcd  d687ea972ccb5373c605 2022-01-01 00:24:01   \n",
       "\n",
       "  sistema_operacional navegador                  localizacao locale  \\\n",
       "0             Android    Chrome             Curitiba, Parana     BR   \n",
       "1             Android    Chrome             Curitiba, Parana     BR   \n",
       "2             Android    Chrome  Montes Claros, Minas Gerais     BR   \n",
       "3                 iOS       NaN         São Paulo, Sao Paulo     BR   \n",
       "4             Android    Chrome             Curitiba, Parana     BR   \n",
       "\n",
       "          cidade         estado  qtde_lavagem_semana  ... faixa_etaria  \\\n",
       "0       CURITIBA         PARANA                    2  ...      18 a 24   \n",
       "1       CURITIBA         PARANA                    4  ...      11 a 17   \n",
       "2  MONTES CLAROS   MINAS GERAIS                    1  ...      18 a 24   \n",
       "3      SÃO PAULO      SAO PAULO                    5  ...      45 a 54   \n",
       "4       CURITIBA         PARANA                    2  ...      18 a 24   \n",
       "\n",
       "                                  efeitos_desejados        fragancia  \\\n",
       "0  Efeito 6, Efeito 2, Efeito 4, Efeito 3, Efeito 1            Rosas   \n",
       "1            Efeito 6, Efeito 7, Efeito 4, Efeito 1  Flores do campo   \n",
       "2  Efeito 6, Efeito 7, Efeito 8, Efeito 1, Efeito 5        Eucalipto   \n",
       "3            Efeito 1, Efeito 5, Efeito 7, Efeito 8            Rosas   \n",
       "4  Efeito 6, Efeito 2, Efeito 4, Efeito 3, Efeito 1            Rosas   \n",
       "\n",
       "  id_pedido status_pagamento data_pedido target mes rec_form rec_compra  \n",
       "0       NaN              NaN         NaN      0   1        0          0  \n",
       "1       NaN              NaN         NaN      0   1        0          0  \n",
       "2       NaN              NaN         NaN      0   1        0          0  \n",
       "3       NaN              NaN         NaN      0   1        0          0  \n",
       "4       NaN              NaN         NaN      0   1        0          0  \n",
       "\n",
       "[5 rows x 30 columns]"
      ]
     },
     "execution_count": 202,
     "metadata": {},
     "output_type": "execute_result"
    }
   ],
   "source": [
    "cosmetics.head()"
   ]
  },
  {
   "cell_type": "code",
   "execution_count": 203,
   "id": "e4c5a758-38e1-4226-ba5b-5d25fca83722",
   "metadata": {},
   "outputs": [
    {
     "data": {
      "text/plain": [
       "(419832, 30)"
      ]
     },
     "execution_count": 203,
     "metadata": {},
     "output_type": "execute_result"
    }
   ],
   "source": [
    "cosmetics.shape"
   ]
  },
  {
   "cell_type": "code",
   "execution_count": 204,
   "id": "ca17604a-629a-4f49-bb93-4a89e646f92c",
   "metadata": {},
   "outputs": [
    {
     "data": {
      "text/plain": [
       "Index(['id_form', 'id_cliente', 'data', 'sistema_operacional', 'navegador',\n",
       "       'localizacao', 'locale', 'cidade', 'estado', 'qtde_lavagem_semana',\n",
       "       'utm_source', 'tipo_cabelo', 'comprimento', 'tipo_fios',\n",
       "       'procedimentos', 'tempo_procedimento', 'dieta', 'atividade_fisica',\n",
       "       'frequencia_estresse', 'caracteristica', 'faixa_etaria',\n",
       "       'efeitos_desejados', 'fragancia', 'id_pedido', 'status_pagamento',\n",
       "       'data_pedido', 'target', 'mes', 'rec_form', 'rec_compra'],\n",
       "      dtype='object')"
      ]
     },
     "execution_count": 204,
     "metadata": {},
     "output_type": "execute_result"
    }
   ],
   "source": [
    "cosmetics.columns"
   ]
  },
  {
   "cell_type": "markdown",
   "id": "eceb74b4-921f-4948-a8a6-c216b378c108",
   "metadata": {},
   "source": [
    "* O dataset contém todas as informações disponibilizadas pelo formulário que serão consideradas como as principais features para o modelo e algumas informações sobre os pedidos para possíveis ajustes nos dados que possam contribuir com o poder preditivo do modelo como o status de pagamento e data do pedido.\n",
    "\n",
    "* A informação de compra foi traduzida na feature **target** que indica se o lead realizou um pedido (1) ou não (0) após preencher o formulário.\n",
    "\n",
    "* Há casos onde um único formulário foi utilizado em vários pedidos. Nesse caso, esses pedidos serão considerados como duplicatas e serão contabilizados apenas uma vez."
   ]
  },
  {
   "cell_type": "code",
   "execution_count": 159,
   "id": "397ad55a-18cc-48b4-af6a-5ecee99126d6",
   "metadata": {},
   "outputs": [],
   "source": [
    "#Salvando a base \n",
    "cosmetics.to_csv('../data/dados_py.csv', index = False)"
   ]
  },
  {
   "cell_type": "code",
   "execution_count": 196,
   "id": "e4cdd6e2-4f26-4154-adf4-57aabc0d2317",
   "metadata": {},
   "outputs": [
    {
     "data": {
      "image/png": "[encoded data removed]",
      "text/plain": [
       "<Figure size 864x432 with 1 Axes>"
      ]
     },
     "metadata": {},
     "output_type": "display_data"
    }
   ],
   "source": [
    "forms  = cosmetics.set_index('data').resample('M').count()['id_form'].plot(marker = 'o', label = 'forms', linestyle = '--', color = 'r')\n",
    "vendas = cosmetics.set_index('data')[cosmetics.set_index('data').target == 1].resample('M').count()['id_form'].plot(marker = 'o', label='compra',color = 'blue', linestyle = '--')\n",
    "plt.legend(['Formulários','Compras'], title = 'Série Histórica')\n",
    "plt.title('Volume mensal de vendas e formulários', fontsize = 16)\n",
    "plt.xlabel('Mês')\n",
    "plt.show()"
   ]
  },
  {
   "cell_type": "markdown",
   "id": "a2a40eec-efb0-4373-ab87-cb52a961a312",
   "metadata": {},
   "source": [
    "## Estimativa de volume mensal de formulários"
   ]
  },
  {
   "cell_type": "code",
   "execution_count": 205,
   "id": "01d4f3a7-773a-4a26-b9d3-2d0511eaaf9f",
   "metadata": {},
   "outputs": [],
   "source": [
    "cosmetics.sort_values(by='data', inplace = True)"
   ]
  },
  {
   "cell_type": "code",
   "execution_count": 206,
   "id": "1e378d2f-b3da-4f42-afa0-f97e67cdb1c4",
   "metadata": {},
   "outputs": [],
   "source": [
    "cosmetics.data = pd.to_datetime(cosmetics.data)"
   ]
  },
  {
   "cell_type": "code",
   "execution_count": 207,
   "id": "5f154957-f61b-4796-a2cb-fb8e51144d18",
   "metadata": {},
   "outputs": [],
   "source": [
    "cosmetics['mes'] = cosmetics.data.dt.month"
   ]
  },
  {
   "cell_type": "code",
   "execution_count": 208,
   "id": "6786b0a0-4918-424b-a1f2-6c91c063370a",
   "metadata": {},
   "outputs": [
    {
     "data": {
      "text/plain": [
       "mes\n",
       "1    93799\n",
       "2    61944\n",
       "3    64203\n",
       "4    69292\n",
       "5    74602\n",
       "6    55992\n",
       "Name: id_form, dtype: int64"
      ]
     },
     "execution_count": 208,
     "metadata": {},
     "output_type": "execute_result"
    }
   ],
   "source": [
    "cosmetics.groupby('mes')['id_form'].count()"
   ]
  },
  {
   "cell_type": "code",
   "execution_count": 209,
   "id": "3258414b-7f56-4e59-aa15-f52caa514850",
   "metadata": {},
   "outputs": [
    {
     "data": {
      "text/plain": [
       "69972.0"
      ]
     },
     "execution_count": 209,
     "metadata": {},
     "output_type": "execute_result"
    }
   ],
   "source": [
    "cosmetics.groupby('mes')['id_form'].count().mean()"
   ]
  },
  {
   "cell_type": "markdown",
   "id": "9ffd039b-9c65-4d94-895d-ab6abb1bdece",
   "metadata": {},
   "source": [
    "Em média são realizados cerca de 72 mil formulários ao mês."
   ]
  },
  {
   "cell_type": "markdown",
   "id": "a72a204c-7ba4-4341-adb6-c48f381f4a74",
   "metadata": {},
   "source": [
    "## Filtrando formulários "
   ]
  },
  {
   "cell_type": "code",
   "execution_count": 210,
   "id": "4d151cb1-4050-4892-939b-e18597977a51",
   "metadata": {},
   "outputs": [
    {
     "data": {
      "text/plain": [
       "Entregue              33778\n",
       "Pagamento aprovado     9352\n",
       "Em transporte          2893\n",
       "Name: status_pagamento, dtype: int64"
      ]
     },
     "execution_count": 210,
     "metadata": {},
     "output_type": "execute_result"
    }
   ],
   "source": [
    "cosmetics.status_pagamento.value_counts()"
   ]
  },
  {
   "cell_type": "markdown",
   "id": "14eda6b5-f5b8-455e-a5bc-a13881b31ee0",
   "metadata": {},
   "source": [
    "Assumiu-se que pedidos 'Entregue', 'Em transporte' e 'Pagamento confirmado' constituem compras bem sucedidas. Como a base contem mais de 400 mil dados disponívis, pedidos cancelados e aguardando pagamento serão retirados do dataset.\n"
   ]
  },
  {
   "cell_type": "code",
   "execution_count": 211,
   "id": "f080fae8-4527-45c7-b80c-cf9f13d094f4",
   "metadata": {},
   "outputs": [],
   "source": [
    "cosmetics = cosmetics[(cosmetics.status_pagamento != 'Cancelado') & (cosmetics.status_pagamento != 'Aguardando pagamento') & (cosmetics.status_pagamento != 'Criado')]"
   ]
  },
  {
   "cell_type": "markdown",
   "id": "383f8265-f91b-4fe7-b8e8-4aabbed22423",
   "metadata": {},
   "source": [
    "## Feature de recorrencia"
   ]
  },
  {
   "cell_type": "code",
   "execution_count": 13,
   "id": "19dc9c01-0c41-46d1-acd8-0f2db7aca0e2",
   "metadata": {},
   "outputs": [
    {
     "name": "stderr",
     "output_type": "stream",
     "text": [
      "419832it [10:17:50, 11.33it/s]\n"
     ]
    }
   ],
   "source": [
    "recorrencia_forms  = []\n",
    "recorrencia_compra = []\n",
    "for n, row in tqdm(cosmetics.iterrows()):\n",
    "    recorrencia_forms.append(len(cosmetics.iloc[:n][cosmetics.id_cliente == row.id_cliente]))\n",
    "    recorrencia_compra.append(len(cosmetics.iloc[:n][(cosmetics.id_cliente == row.id_cliente) & (cosmetics.target == 1)]))"
   ]
  },
  {
   "cell_type": "code",
   "execution_count": 15,
   "id": "660ea084-29f6-4fa1-8b39-4e30303b8086",
   "metadata": {},
   "outputs": [],
   "source": [
    "cosmetics['rec_form']   = recorrencia_forms\n",
    "cosmetics['rec_compra'] =  recorrencia_compra"
   ]
  },
  {
   "cell_type": "code",
   "execution_count": 212,
   "id": "bc6b3d04-5fe1-45f5-bb3c-080b52759135",
   "metadata": {},
   "outputs": [
    {
     "data": {
      "text/html": [
       "<div>\n",
       "<style scoped>\n",
       "    .dataframe tbody tr th:only-of-type {\n",
       "        vertical-align: middle;\n",
       "    }\n",
       "\n",
       "    .dataframe tbody tr th {\n",
       "        vertical-align: top;\n",
       "    }\n",
       "\n",
       "    .dataframe thead th {\n",
       "        text-align: right;\n",
       "    }\n",
       "</style>\n",
       "<table border=\"1\" class=\"dataframe\">\n",
       "  <thead>\n",
       "    <tr style=\"text-align: right;\">\n",
       "      <th></th>\n",
       "      <th>id_form</th>\n",
       "      <th>id_cliente</th>\n",
       "      <th>data</th>\n",
       "      <th>sistema_operacional</th>\n",
       "      <th>navegador</th>\n",
       "      <th>localizacao</th>\n",
       "      <th>locale</th>\n",
       "      <th>cidade</th>\n",
       "      <th>estado</th>\n",
       "      <th>qtde_lavagem_semana</th>\n",
       "      <th>...</th>\n",
       "      <th>faixa_etaria</th>\n",
       "      <th>efeitos_desejados</th>\n",
       "      <th>fragancia</th>\n",
       "      <th>id_pedido</th>\n",
       "      <th>status_pagamento</th>\n",
       "      <th>data_pedido</th>\n",
       "      <th>target</th>\n",
       "      <th>mes</th>\n",
       "      <th>rec_form</th>\n",
       "      <th>rec_compra</th>\n",
       "    </tr>\n",
       "  </thead>\n",
       "  <tbody>\n",
       "    <tr>\n",
       "      <th>0</th>\n",
       "      <td>52a843d0b7e090a05fbf29dbc8b1a4</td>\n",
       "      <td>755e5d5efaa0de273687</td>\n",
       "      <td>2022-01-01 00:13:01</td>\n",
       "      <td>Android</td>\n",
       "      <td>Chrome</td>\n",
       "      <td>Curitiba, Parana</td>\n",
       "      <td>BR</td>\n",
       "      <td>CURITIBA</td>\n",
       "      <td>PARANA</td>\n",
       "      <td>2</td>\n",
       "      <td>...</td>\n",
       "      <td>18 a 24</td>\n",
       "      <td>Efeito 6, Efeito 2, Efeito 4, Efeito 3, Efeito 1</td>\n",
       "      <td>Rosas</td>\n",
       "      <td>NaN</td>\n",
       "      <td>NaN</td>\n",
       "      <td>NaN</td>\n",
       "      <td>0</td>\n",
       "      <td>1</td>\n",
       "      <td>0</td>\n",
       "      <td>0</td>\n",
       "    </tr>\n",
       "    <tr>\n",
       "      <th>1</th>\n",
       "      <td>0eec183ffa8b5ea2b50bad7247ef7a</td>\n",
       "      <td>af4f02a79c7f0a318dd3</td>\n",
       "      <td>2022-01-01 00:16:14</td>\n",
       "      <td>Android</td>\n",
       "      <td>Chrome</td>\n",
       "      <td>Curitiba, Parana</td>\n",
       "      <td>BR</td>\n",
       "      <td>CURITIBA</td>\n",
       "      <td>PARANA</td>\n",
       "      <td>4</td>\n",
       "      <td>...</td>\n",
       "      <td>11 a 17</td>\n",
       "      <td>Efeito 6, Efeito 7, Efeito 4, Efeito 1</td>\n",
       "      <td>Flores do campo</td>\n",
       "      <td>NaN</td>\n",
       "      <td>NaN</td>\n",
       "      <td>NaN</td>\n",
       "      <td>0</td>\n",
       "      <td>1</td>\n",
       "      <td>0</td>\n",
       "      <td>0</td>\n",
       "    </tr>\n",
       "    <tr>\n",
       "      <th>2</th>\n",
       "      <td>1c35d70c95b2d2c8f6be4ff6f84b96</td>\n",
       "      <td>67d9e56f53f9fb49af6f</td>\n",
       "      <td>2022-01-01 00:17:06</td>\n",
       "      <td>Android</td>\n",
       "      <td>Chrome</td>\n",
       "      <td>Montes Claros, Minas Gerais</td>\n",
       "      <td>BR</td>\n",
       "      <td>MONTES CLAROS</td>\n",
       "      <td>MINAS GERAIS</td>\n",
       "      <td>1</td>\n",
       "      <td>...</td>\n",
       "      <td>18 a 24</td>\n",
       "      <td>Efeito 6, Efeito 7, Efeito 8, Efeito 1, Efeito 5</td>\n",
       "      <td>Eucalipto</td>\n",
       "      <td>NaN</td>\n",
       "      <td>NaN</td>\n",
       "      <td>NaN</td>\n",
       "      <td>0</td>\n",
       "      <td>1</td>\n",
       "      <td>0</td>\n",
       "      <td>0</td>\n",
       "    </tr>\n",
       "    <tr>\n",
       "      <th>3</th>\n",
       "      <td>593a259a51f2f00a15db33946d6d65</td>\n",
       "      <td>e0d69ea9eb3a130f5766</td>\n",
       "      <td>2022-01-01 00:17:14</td>\n",
       "      <td>iOS</td>\n",
       "      <td>NaN</td>\n",
       "      <td>São Paulo, Sao Paulo</td>\n",
       "      <td>BR</td>\n",
       "      <td>SÃO PAULO</td>\n",
       "      <td>SAO PAULO</td>\n",
       "      <td>5</td>\n",
       "      <td>...</td>\n",
       "      <td>45 a 54</td>\n",
       "      <td>Efeito 1, Efeito 5, Efeito 7, Efeito 8</td>\n",
       "      <td>Rosas</td>\n",
       "      <td>NaN</td>\n",
       "      <td>NaN</td>\n",
       "      <td>NaN</td>\n",
       "      <td>0</td>\n",
       "      <td>1</td>\n",
       "      <td>0</td>\n",
       "      <td>0</td>\n",
       "    </tr>\n",
       "    <tr>\n",
       "      <th>4</th>\n",
       "      <td>44f20b125e4971eca764ccc4dadfcd</td>\n",
       "      <td>d687ea972ccb5373c605</td>\n",
       "      <td>2022-01-01 00:24:01</td>\n",
       "      <td>Android</td>\n",
       "      <td>Chrome</td>\n",
       "      <td>Curitiba, Parana</td>\n",
       "      <td>BR</td>\n",
       "      <td>CURITIBA</td>\n",
       "      <td>PARANA</td>\n",
       "      <td>2</td>\n",
       "      <td>...</td>\n",
       "      <td>18 a 24</td>\n",
       "      <td>Efeito 6, Efeito 2, Efeito 4, Efeito 3, Efeito 1</td>\n",
       "      <td>Rosas</td>\n",
       "      <td>NaN</td>\n",
       "      <td>NaN</td>\n",
       "      <td>NaN</td>\n",
       "      <td>0</td>\n",
       "      <td>1</td>\n",
       "      <td>0</td>\n",
       "      <td>0</td>\n",
       "    </tr>\n",
       "    <tr>\n",
       "      <th>...</th>\n",
       "      <td>...</td>\n",
       "      <td>...</td>\n",
       "      <td>...</td>\n",
       "      <td>...</td>\n",
       "      <td>...</td>\n",
       "      <td>...</td>\n",
       "      <td>...</td>\n",
       "      <td>...</td>\n",
       "      <td>...</td>\n",
       "      <td>...</td>\n",
       "      <td>...</td>\n",
       "      <td>...</td>\n",
       "      <td>...</td>\n",
       "      <td>...</td>\n",
       "      <td>...</td>\n",
       "      <td>...</td>\n",
       "      <td>...</td>\n",
       "      <td>...</td>\n",
       "      <td>...</td>\n",
       "      <td>...</td>\n",
       "      <td>...</td>\n",
       "    </tr>\n",
       "    <tr>\n",
       "      <th>419827</th>\n",
       "      <td>1d079f0da7c372a0b46176eb6df28f</td>\n",
       "      <td>f8899992e2a012971935</td>\n",
       "      <td>2022-06-30 23:49:30</td>\n",
       "      <td>Android</td>\n",
       "      <td>Chrome</td>\n",
       "      <td>Porto Alegre, Rio Grande do Sul</td>\n",
       "      <td>BR</td>\n",
       "      <td>PORTO ALEGRE</td>\n",
       "      <td>RIO GRANDE DO SUL</td>\n",
       "      <td>4</td>\n",
       "      <td>...</td>\n",
       "      <td>65+</td>\n",
       "      <td>Efeito 6</td>\n",
       "      <td>Eucalipto</td>\n",
       "      <td>NaN</td>\n",
       "      <td>NaN</td>\n",
       "      <td>NaN</td>\n",
       "      <td>0</td>\n",
       "      <td>6</td>\n",
       "      <td>1</td>\n",
       "      <td>0</td>\n",
       "    </tr>\n",
       "    <tr>\n",
       "      <th>419828</th>\n",
       "      <td>d24aa939eb8631e4ebfd19a41f3f26</td>\n",
       "      <td>1e746654168e20b6b695</td>\n",
       "      <td>2022-06-30 23:53:26</td>\n",
       "      <td>iOS</td>\n",
       "      <td>Safari</td>\n",
       "      <td>Hortolândia, Sao Paulo</td>\n",
       "      <td>BR</td>\n",
       "      <td>HORTOLÂNDIA</td>\n",
       "      <td>SAO PAULO</td>\n",
       "      <td>4</td>\n",
       "      <td>...</td>\n",
       "      <td>25 a 34</td>\n",
       "      <td>Efeito 6, Efeito 7, Efeito 8, Efeito 1</td>\n",
       "      <td>Rosas</td>\n",
       "      <td>NaN</td>\n",
       "      <td>NaN</td>\n",
       "      <td>NaN</td>\n",
       "      <td>0</td>\n",
       "      <td>6</td>\n",
       "      <td>2</td>\n",
       "      <td>0</td>\n",
       "    </tr>\n",
       "    <tr>\n",
       "      <th>419829</th>\n",
       "      <td>44dc276981466895404748486c6294</td>\n",
       "      <td>a6694c23b639809720a5</td>\n",
       "      <td>2022-06-30 23:55:20</td>\n",
       "      <td>iOS</td>\n",
       "      <td>NaN</td>\n",
       "      <td>Paulista, Pernambuco</td>\n",
       "      <td>BR</td>\n",
       "      <td>PAULISTA</td>\n",
       "      <td>PERNAMBUCO</td>\n",
       "      <td>2</td>\n",
       "      <td>...</td>\n",
       "      <td>25 a 34</td>\n",
       "      <td>Efeito 6, Efeito 2, Efeito 7, Efeito 1, Efeito 3</td>\n",
       "      <td>Eucalipto</td>\n",
       "      <td>NaN</td>\n",
       "      <td>NaN</td>\n",
       "      <td>NaN</td>\n",
       "      <td>0</td>\n",
       "      <td>6</td>\n",
       "      <td>3</td>\n",
       "      <td>1</td>\n",
       "    </tr>\n",
       "    <tr>\n",
       "      <th>419830</th>\n",
       "      <td>d6839000a882376fc4847f33d24e14</td>\n",
       "      <td>644e4b7a42c80a30d632</td>\n",
       "      <td>2022-06-30 23:57:32</td>\n",
       "      <td>iOS</td>\n",
       "      <td>Safari</td>\n",
       "      <td>Cotia, Sao Paulo</td>\n",
       "      <td>BR</td>\n",
       "      <td>COTIA</td>\n",
       "      <td>SAO PAULO</td>\n",
       "      <td>4</td>\n",
       "      <td>...</td>\n",
       "      <td>25 a 34</td>\n",
       "      <td>Efeito 7, Efeito 8, Efeito 4</td>\n",
       "      <td>Flores do campo</td>\n",
       "      <td>NaN</td>\n",
       "      <td>NaN</td>\n",
       "      <td>NaN</td>\n",
       "      <td>0</td>\n",
       "      <td>6</td>\n",
       "      <td>1</td>\n",
       "      <td>0</td>\n",
       "    </tr>\n",
       "    <tr>\n",
       "      <th>419831</th>\n",
       "      <td>da8ebc2860c164bc62d7d9cf9f8d4d</td>\n",
       "      <td>c5029b636a58e2a5c73e</td>\n",
       "      <td>2022-06-30 23:57:47</td>\n",
       "      <td>iOS</td>\n",
       "      <td>Safari</td>\n",
       "      <td>Goiânia, Goias</td>\n",
       "      <td>BR</td>\n",
       "      <td>GOIÂNIA</td>\n",
       "      <td>GOIAS</td>\n",
       "      <td>2</td>\n",
       "      <td>...</td>\n",
       "      <td>18 a 24</td>\n",
       "      <td>Efeito 6, Efeito 4, Efeito 2, Efeito 10, Efeito 3</td>\n",
       "      <td>Eucalipto</td>\n",
       "      <td>NaN</td>\n",
       "      <td>NaN</td>\n",
       "      <td>NaN</td>\n",
       "      <td>0</td>\n",
       "      <td>6</td>\n",
       "      <td>2</td>\n",
       "      <td>1</td>\n",
       "    </tr>\n",
       "  </tbody>\n",
       "</table>\n",
       "<p>419832 rows × 30 columns</p>\n",
       "</div>"
      ],
      "text/plain": [
       "                               id_form            id_cliente  \\\n",
       "0       52a843d0b7e090a05fbf29dbc8b1a4  755e5d5efaa0de273687   \n",
       "1       0eec183ffa8b5ea2b50bad7247ef7a  af4f02a79c7f0a318dd3   \n",
       "2       1c35d70c95b2d2c8f6be4ff6f84b96  67d9e56f53f9fb49af6f   \n",
       "3       593a259a51f2f00a15db33946d6d65  e0d69ea9eb3a130f5766   \n",
       "4       44f20b125e4971eca764ccc4dadfcd  d687ea972ccb5373c605   \n",
       "...                                ...                   ...   \n",
       "419827  1d079f0da7c372a0b46176eb6df28f  f8899992e2a012971935   \n",
       "419828  d24aa939eb8631e4ebfd19a41f3f26  1e746654168e20b6b695   \n",
       "419829  44dc276981466895404748486c6294  a6694c23b639809720a5   \n",
       "419830  d6839000a882376fc4847f33d24e14  644e4b7a42c80a30d632   \n",
       "419831  da8ebc2860c164bc62d7d9cf9f8d4d  c5029b636a58e2a5c73e   \n",
       "\n",
       "                      data sistema_operacional navegador  \\\n",
       "0      2022-01-01 00:13:01             Android    Chrome   \n",
       "1      2022-01-01 00:16:14             Android    Chrome   \n",
       "2      2022-01-01 00:17:06             Android    Chrome   \n",
       "3      2022-01-01 00:17:14                 iOS       NaN   \n",
       "4      2022-01-01 00:24:01             Android    Chrome   \n",
       "...                    ...                 ...       ...   \n",
       "419827 2022-06-30 23:49:30             Android    Chrome   \n",
       "419828 2022-06-30 23:53:26                 iOS    Safari   \n",
       "419829 2022-06-30 23:55:20                 iOS       NaN   \n",
       "419830 2022-06-30 23:57:32                 iOS    Safari   \n",
       "419831 2022-06-30 23:57:47                 iOS    Safari   \n",
       "\n",
       "                            localizacao locale         cidade  \\\n",
       "0                      Curitiba, Parana     BR       CURITIBA   \n",
       "1                      Curitiba, Parana     BR       CURITIBA   \n",
       "2           Montes Claros, Minas Gerais     BR  MONTES CLAROS   \n",
       "3                  São Paulo, Sao Paulo     BR      SÃO PAULO   \n",
       "4                      Curitiba, Parana     BR       CURITIBA   \n",
       "...                                 ...    ...            ...   \n",
       "419827  Porto Alegre, Rio Grande do Sul     BR   PORTO ALEGRE   \n",
       "419828           Hortolândia, Sao Paulo     BR    HORTOLÂNDIA   \n",
       "419829             Paulista, Pernambuco     BR       PAULISTA   \n",
       "419830                 Cotia, Sao Paulo     BR          COTIA   \n",
       "419831                   Goiânia, Goias     BR        GOIÂNIA   \n",
       "\n",
       "                    estado  qtde_lavagem_semana  ... faixa_etaria  \\\n",
       "0                   PARANA                    2  ...      18 a 24   \n",
       "1                   PARANA                    4  ...      11 a 17   \n",
       "2             MINAS GERAIS                    1  ...      18 a 24   \n",
       "3                SAO PAULO                    5  ...      45 a 54   \n",
       "4                   PARANA                    2  ...      18 a 24   \n",
       "...                    ...                  ...  ...          ...   \n",
       "419827   RIO GRANDE DO SUL                    4  ...          65+   \n",
       "419828           SAO PAULO                    4  ...      25 a 34   \n",
       "419829          PERNAMBUCO                    2  ...      25 a 34   \n",
       "419830           SAO PAULO                    4  ...      25 a 34   \n",
       "419831               GOIAS                    2  ...      18 a 24   \n",
       "\n",
       "                                        efeitos_desejados        fragancia  \\\n",
       "0        Efeito 6, Efeito 2, Efeito 4, Efeito 3, Efeito 1            Rosas   \n",
       "1                  Efeito 6, Efeito 7, Efeito 4, Efeito 1  Flores do campo   \n",
       "2        Efeito 6, Efeito 7, Efeito 8, Efeito 1, Efeito 5        Eucalipto   \n",
       "3                  Efeito 1, Efeito 5, Efeito 7, Efeito 8            Rosas   \n",
       "4        Efeito 6, Efeito 2, Efeito 4, Efeito 3, Efeito 1            Rosas   \n",
       "...                                                   ...              ...   \n",
       "419827                                           Efeito 6        Eucalipto   \n",
       "419828             Efeito 6, Efeito 7, Efeito 8, Efeito 1            Rosas   \n",
       "419829   Efeito 6, Efeito 2, Efeito 7, Efeito 1, Efeito 3        Eucalipto   \n",
       "419830                       Efeito 7, Efeito 8, Efeito 4  Flores do campo   \n",
       "419831  Efeito 6, Efeito 4, Efeito 2, Efeito 10, Efeito 3        Eucalipto   \n",
       "\n",
       "       id_pedido status_pagamento data_pedido target mes rec_form rec_compra  \n",
       "0            NaN              NaN         NaN      0   1        0          0  \n",
       "1            NaN              NaN         NaN      0   1        0          0  \n",
       "2            NaN              NaN         NaN      0   1        0          0  \n",
       "3            NaN              NaN         NaN      0   1        0          0  \n",
       "4            NaN              NaN         NaN      0   1        0          0  \n",
       "...          ...              ...         ...    ...  ..      ...        ...  \n",
       "419827       NaN              NaN         NaN      0   6        1          0  \n",
       "419828       NaN              NaN         NaN      0   6        2          0  \n",
       "419829       NaN              NaN         NaN      0   6        3          1  \n",
       "419830       NaN              NaN         NaN      0   6        1          0  \n",
       "419831       NaN              NaN         NaN      0   6        2          1  \n",
       "\n",
       "[419832 rows x 30 columns]"
      ]
     },
     "execution_count": 212,
     "metadata": {},
     "output_type": "execute_result"
    }
   ],
   "source": [
    "cosmetics"
   ]
  },
  {
   "cell_type": "markdown",
   "id": "40346caf-fe86-43c3-aa17-f451be2c3c9b",
   "metadata": {},
   "source": [
    "## Criação de dataset apenas com features que serão consideradas para a modelagem"
   ]
  },
  {
   "cell_type": "code",
   "execution_count": 295,
   "id": "916b7eaa-f198-4a64-9cc1-da4dd63a6ffa",
   "metadata": {},
   "outputs": [],
   "source": [
    "#Drop de colunas de ID e data\n",
    "df = cosmetics.drop(['id_form','id_cliente','data','data_pedido','id_pedido', 'status_pagamento','mes'], axis = 1)"
   ]
  },
  {
   "cell_type": "code",
   "execution_count": 296,
   "id": "832e7f03-6233-4654-81c7-b456888e6710",
   "metadata": {},
   "outputs": [
    {
     "data": {
      "text/plain": [
       "Index(['sistema_operacional', 'navegador', 'localizacao', 'locale', 'cidade',\n",
       "       'estado', 'qtde_lavagem_semana', 'utm_source', 'tipo_cabelo',\n",
       "       'comprimento', 'tipo_fios', 'procedimentos', 'tempo_procedimento',\n",
       "       'dieta', 'atividade_fisica', 'frequencia_estresse', 'caracteristica',\n",
       "       'faixa_etaria', 'efeitos_desejados', 'fragancia', 'target', 'rec_form',\n",
       "       'rec_compra'],\n",
       "      dtype='object')"
      ]
     },
     "execution_count": 296,
     "metadata": {},
     "output_type": "execute_result"
    }
   ],
   "source": [
    "df.columns"
   ]
  },
  {
   "cell_type": "code",
   "execution_count": 297,
   "id": "7587be7f-23ed-4d84-b7c0-a3479cbf8ef7",
   "metadata": {},
   "outputs": [
    {
     "data": {
      "text/html": [
       "<div>\n",
       "<style scoped>\n",
       "    .dataframe tbody tr th:only-of-type {\n",
       "        vertical-align: middle;\n",
       "    }\n",
       "\n",
       "    .dataframe tbody tr th {\n",
       "        vertical-align: top;\n",
       "    }\n",
       "\n",
       "    .dataframe thead th {\n",
       "        text-align: right;\n",
       "    }\n",
       "</style>\n",
       "<table border=\"1\" class=\"dataframe\">\n",
       "  <thead>\n",
       "    <tr style=\"text-align: right;\">\n",
       "      <th></th>\n",
       "      <th>sistema_operacional</th>\n",
       "      <th>navegador</th>\n",
       "      <th>localizacao</th>\n",
       "      <th>locale</th>\n",
       "      <th>cidade</th>\n",
       "      <th>estado</th>\n",
       "      <th>qtde_lavagem_semana</th>\n",
       "      <th>utm_source</th>\n",
       "      <th>tipo_cabelo</th>\n",
       "      <th>comprimento</th>\n",
       "      <th>...</th>\n",
       "      <th>dieta</th>\n",
       "      <th>atividade_fisica</th>\n",
       "      <th>frequencia_estresse</th>\n",
       "      <th>caracteristica</th>\n",
       "      <th>faixa_etaria</th>\n",
       "      <th>efeitos_desejados</th>\n",
       "      <th>fragancia</th>\n",
       "      <th>target</th>\n",
       "      <th>rec_form</th>\n",
       "      <th>rec_compra</th>\n",
       "    </tr>\n",
       "  </thead>\n",
       "  <tbody>\n",
       "    <tr>\n",
       "      <th>0</th>\n",
       "      <td>Android</td>\n",
       "      <td>Chrome</td>\n",
       "      <td>Curitiba, Parana</td>\n",
       "      <td>BR</td>\n",
       "      <td>CURITIBA</td>\n",
       "      <td>PARANA</td>\n",
       "      <td>2</td>\n",
       "      <td>linktree</td>\n",
       "      <td>Tipo 2</td>\n",
       "      <td>Raíz exposta</td>\n",
       "      <td>...</td>\n",
       "      <td>Celíaca</td>\n",
       "      <td>Raramente</td>\n",
       "      <td>Uma vez por mês</td>\n",
       "      <td>Característica 1</td>\n",
       "      <td>18 a 24</td>\n",
       "      <td>Efeito 6, Efeito 2, Efeito 4, Efeito 3, Efeito 1</td>\n",
       "      <td>Rosas</td>\n",
       "      <td>0</td>\n",
       "      <td>0</td>\n",
       "      <td>0</td>\n",
       "    </tr>\n",
       "    <tr>\n",
       "      <th>1</th>\n",
       "      <td>Android</td>\n",
       "      <td>Chrome</td>\n",
       "      <td>Curitiba, Parana</td>\n",
       "      <td>BR</td>\n",
       "      <td>CURITIBA</td>\n",
       "      <td>PARANA</td>\n",
       "      <td>4</td>\n",
       "      <td>influencer</td>\n",
       "      <td>Tipo 2</td>\n",
       "      <td>Muito curto</td>\n",
       "      <td>...</td>\n",
       "      <td>Celíaca</td>\n",
       "      <td>Frequente</td>\n",
       "      <td>Nunca</td>\n",
       "      <td>Característica 7</td>\n",
       "      <td>11 a 17</td>\n",
       "      <td>Efeito 6, Efeito 7, Efeito 4, Efeito 1</td>\n",
       "      <td>Flores do campo</td>\n",
       "      <td>0</td>\n",
       "      <td>0</td>\n",
       "      <td>0</td>\n",
       "    </tr>\n",
       "    <tr>\n",
       "      <th>2</th>\n",
       "      <td>Android</td>\n",
       "      <td>Chrome</td>\n",
       "      <td>Montes Claros, Minas Gerais</td>\n",
       "      <td>BR</td>\n",
       "      <td>MONTES CLAROS</td>\n",
       "      <td>MINAS GERAIS</td>\n",
       "      <td>1</td>\n",
       "      <td>google</td>\n",
       "      <td>Tipo 2</td>\n",
       "      <td>Raíz exposta</td>\n",
       "      <td>...</td>\n",
       "      <td>Celíaca</td>\n",
       "      <td>Raramente</td>\n",
       "      <td>Uma vez por mês</td>\n",
       "      <td>Característica 3</td>\n",
       "      <td>18 a 24</td>\n",
       "      <td>Efeito 6, Efeito 7, Efeito 8, Efeito 1, Efeito 5</td>\n",
       "      <td>Eucalipto</td>\n",
       "      <td>0</td>\n",
       "      <td>0</td>\n",
       "      <td>0</td>\n",
       "    </tr>\n",
       "    <tr>\n",
       "      <th>3</th>\n",
       "      <td>iOS</td>\n",
       "      <td>NaN</td>\n",
       "      <td>São Paulo, Sao Paulo</td>\n",
       "      <td>BR</td>\n",
       "      <td>SÃO PAULO</td>\n",
       "      <td>SAO PAULO</td>\n",
       "      <td>5</td>\n",
       "      <td>facebook</td>\n",
       "      <td>Tipo 1</td>\n",
       "      <td>Muito curto</td>\n",
       "      <td>...</td>\n",
       "      <td>Celíaca</td>\n",
       "      <td>Raramente</td>\n",
       "      <td>Uma vez por mês</td>\n",
       "      <td>Característica 2</td>\n",
       "      <td>45 a 54</td>\n",
       "      <td>Efeito 1, Efeito 5, Efeito 7, Efeito 8</td>\n",
       "      <td>Rosas</td>\n",
       "      <td>0</td>\n",
       "      <td>0</td>\n",
       "      <td>0</td>\n",
       "    </tr>\n",
       "    <tr>\n",
       "      <th>4</th>\n",
       "      <td>Android</td>\n",
       "      <td>Chrome</td>\n",
       "      <td>Curitiba, Parana</td>\n",
       "      <td>BR</td>\n",
       "      <td>CURITIBA</td>\n",
       "      <td>PARANA</td>\n",
       "      <td>2</td>\n",
       "      <td>linktree</td>\n",
       "      <td>Tipo 2</td>\n",
       "      <td>Raíz exposta</td>\n",
       "      <td>...</td>\n",
       "      <td>Celíaca</td>\n",
       "      <td>Raramente</td>\n",
       "      <td>Uma vez por mês</td>\n",
       "      <td>Característica 1</td>\n",
       "      <td>18 a 24</td>\n",
       "      <td>Efeito 6, Efeito 2, Efeito 4, Efeito 3, Efeito 1</td>\n",
       "      <td>Rosas</td>\n",
       "      <td>0</td>\n",
       "      <td>0</td>\n",
       "      <td>0</td>\n",
       "    </tr>\n",
       "  </tbody>\n",
       "</table>\n",
       "<p>5 rows × 23 columns</p>\n",
       "</div>"
      ],
      "text/plain": [
       "  sistema_operacional navegador                  localizacao locale  \\\n",
       "0             Android    Chrome             Curitiba, Parana     BR   \n",
       "1             Android    Chrome             Curitiba, Parana     BR   \n",
       "2             Android    Chrome  Montes Claros, Minas Gerais     BR   \n",
       "3                 iOS       NaN         São Paulo, Sao Paulo     BR   \n",
       "4             Android    Chrome             Curitiba, Parana     BR   \n",
       "\n",
       "          cidade         estado  qtde_lavagem_semana  utm_source tipo_cabelo  \\\n",
       "0       CURITIBA         PARANA                    2    linktree      Tipo 2   \n",
       "1       CURITIBA         PARANA                    4  influencer      Tipo 2   \n",
       "2  MONTES CLAROS   MINAS GERAIS                    1      google      Tipo 2   \n",
       "3      SÃO PAULO      SAO PAULO                    5    facebook      Tipo 1   \n",
       "4       CURITIBA         PARANA                    2    linktree      Tipo 2   \n",
       "\n",
       "    comprimento  ...    dieta atividade_fisica frequencia_estresse  \\\n",
       "0  Raíz exposta  ...  Celíaca        Raramente     Uma vez por mês   \n",
       "1   Muito curto  ...  Celíaca        Frequente               Nunca   \n",
       "2  Raíz exposta  ...  Celíaca        Raramente     Uma vez por mês   \n",
       "3   Muito curto  ...  Celíaca        Raramente     Uma vez por mês   \n",
       "4  Raíz exposta  ...  Celíaca        Raramente     Uma vez por mês   \n",
       "\n",
       "     caracteristica faixa_etaria  \\\n",
       "0  Característica 1      18 a 24   \n",
       "1  Característica 7      11 a 17   \n",
       "2  Característica 3      18 a 24   \n",
       "3  Característica 2      45 a 54   \n",
       "4  Característica 1      18 a 24   \n",
       "\n",
       "                                  efeitos_desejados        fragancia target  \\\n",
       "0  Efeito 6, Efeito 2, Efeito 4, Efeito 3, Efeito 1            Rosas      0   \n",
       "1            Efeito 6, Efeito 7, Efeito 4, Efeito 1  Flores do campo      0   \n",
       "2  Efeito 6, Efeito 7, Efeito 8, Efeito 1, Efeito 5        Eucalipto      0   \n",
       "3            Efeito 1, Efeito 5, Efeito 7, Efeito 8            Rosas      0   \n",
       "4  Efeito 6, Efeito 2, Efeito 4, Efeito 3, Efeito 1            Rosas      0   \n",
       "\n",
       "  rec_form rec_compra  \n",
       "0        0          0  \n",
       "1        0          0  \n",
       "2        0          0  \n",
       "3        0          0  \n",
       "4        0          0  \n",
       "\n",
       "[5 rows x 23 columns]"
      ]
     },
     "execution_count": 297,
     "metadata": {},
     "output_type": "execute_result"
    }
   ],
   "source": [
    "df.head()"
   ]
  },
  {
   "cell_type": "code",
   "execution_count": 298,
   "id": "d7365640-6ec7-40cd-b06b-79f360188d8e",
   "metadata": {},
   "outputs": [
    {
     "data": {
      "text/plain": [
       "(419832, 23)"
      ]
     },
     "execution_count": 298,
     "metadata": {},
     "output_type": "execute_result"
    }
   ],
   "source": [
    "df.shape"
   ]
  },
  {
   "cell_type": "markdown",
   "id": "e934104f-e729-4c91-9c29-2caa5d2d581b",
   "metadata": {},
   "source": [
    "Filtrando formularios apenas de estados com mais de 100 pedidos"
   ]
  },
  {
   "cell_type": "code",
   "execution_count": 299,
   "id": "8f599461-0fc3-40b1-b3e8-2a1ef988c760",
   "metadata": {},
   "outputs": [],
   "source": [
    "df['count_estado'] = df.groupby('estado')['navegador'].transform('count')"
   ]
  },
  {
   "cell_type": "code",
   "execution_count": 300,
   "id": "be1ad3cf-8beb-4595-93e9-21a8043a41e1",
   "metadata": {},
   "outputs": [
    {
     "data": {
      "text/plain": [
       " SAO PAULO              134075\n",
       " MINAS GERAIS            38412\n",
       " RIO DE JANEIRO          36177\n",
       " PARANA                  26272\n",
       " RIO GRANDE DO SUL       21344\n",
       "                         ...  \n",
       " TRENTINO-ALTO ADIGE         1\n",
       " TOKYO                       1\n",
       " TELANGANA                   1\n",
       " ANTIOQUIA                   1\n",
       " NEW BRUNSWICK               1\n",
       "Name: estado, Length: 324, dtype: int64"
      ]
     },
     "execution_count": 300,
     "metadata": {},
     "output_type": "execute_result"
    }
   ],
   "source": [
    "df.estado.value_counts()"
   ]
  },
  {
   "cell_type": "code",
   "execution_count": 301,
   "id": "00959924-cd0d-49c0-8cbb-5887a7c79757",
   "metadata": {},
   "outputs": [],
   "source": [
    "df = df[df['count_estado'] > 100].drop('count_estado',axis = 1)"
   ]
  },
  {
   "cell_type": "code",
   "execution_count": 220,
   "id": "9e4ac22e-4475-418a-9496-4cbe59ebc95b",
   "metadata": {},
   "outputs": [
    {
     "data": {
      "image/png": "[encoded data removed]",
      "text/plain": [
       "<Figure size 864x432 with 1 Axes>"
      ]
     },
     "metadata": {},
     "output_type": "display_data"
    }
   ],
   "source": [
    "plt.figure(figsize =(12,6))\n",
    "plt.title('Volume de leads por estado')\n",
    "sns.countplot(data = df, x='estado', hue = 'target')\n",
    "\n",
    "plt.xticks(rotation = 90)\n",
    "plt.show()"
   ]
  },
  {
   "cell_type": "markdown",
   "id": "e4737cc5-608a-4188-b998-92934b961b37",
   "metadata": {},
   "source": [
    "# Avaliação de variáveis categóricas"
   ]
  },
  {
   "cell_type": "code",
   "execution_count": 304,
   "id": "61bce67f-46b2-4246-86cb-f5bd4ca6f152",
   "metadata": {},
   "outputs": [
    {
     "data": {
      "text/plain": [
       "efeitos_desejados      11765\n",
       "localizacao             4622\n",
       "cidade                  4324\n",
       "caracteristica          1928\n",
       "procedimentos             66\n",
       "utm_source                38\n",
       "estado                    30\n",
       "faixa_etaria               8\n",
       "navegador                  8\n",
       "sistema_operacional        6\n",
       "atividade_fisica           5\n",
       "tempo_procedimento         5\n",
       "frequencia_estresse        4\n",
       "tipo_fios                  4\n",
       "dieta                      4\n",
       "comprimento                4\n",
       "tipo_cabelo                4\n",
       "fragancia                  3\n",
       "locale                     1\n",
       "dtype: int64"
      ]
     },
     "execution_count": 304,
     "metadata": {},
     "output_type": "execute_result"
    }
   ],
   "source": [
    "df.select_dtypes('object').nunique().sort_values(ascending = False)"
   ]
  },
  {
   "cell_type": "markdown",
   "id": "f0c6952d-3a9d-4972-adce-f7d1ac25699b",
   "metadata": {},
   "source": [
    "# Formatação features"
   ]
  },
  {
   "cell_type": "markdown",
   "id": "a6d6e730-ffbb-4b5b-aec9-b015d931094b",
   "metadata": {},
   "source": [
    "Será feita uma avaliação inicial das features para verificar se o significados das valores pode contribuir para otimizar o processo de modelagem"
   ]
  },
  {
   "cell_type": "code",
   "execution_count": 305,
   "id": "65ac0a45-5bda-4159-b4d6-90e692ada75f",
   "metadata": {},
   "outputs": [],
   "source": [
    "cat_m10 = (df.select_dtypes('object').nunique() < 10)[(df.select_dtypes('object').nunique() < 10)].index"
   ]
  },
  {
   "cell_type": "code",
   "execution_count": 306,
   "id": "695a10b7-b4b6-4528-b097-990c000e2a05",
   "metadata": {},
   "outputs": [
    {
     "data": {
      "image/png": "[encoded data removed]",
      "text/plain": [
       "<Figure size 2304x648 with 12 Axes>"
      ]
     },
     "metadata": {},
     "output_type": "display_data"
    }
   ],
   "source": [
    "f, ax = plt.subplots(figsize=(32,9), nrows=2, ncols = int(len(cat_m10)/2))\n",
    "c=0\n",
    "l=0\n",
    "for catcol in cat_m10:\n",
    "    sns.countplot(x=catcol, data = df, hue = 'target', ax = ax[l][c])\n",
    "    ax[l][c].tick_params(axis='x', rotation=45)\n",
    "    ax[l][c].set_title(catcol)\n",
    "    if c<len(cat_m10)/2-1:\n",
    "        c+=1\n",
    "    else:\n",
    "        c=0\n",
    "        l+=1\n",
    "        \n",
    "plt.tight_layout()"
   ]
  },
  {
   "cell_type": "markdown",
   "id": "49021092-caf9-4b74-ade4-4a0ff657d974",
   "metadata": {},
   "source": [
    "* A maior parte dos clientes acessa a plataforma por celular via Android ou iOS, utilizando como navegador, principalmente Chrome e Safari.\n",
    "* A distribuição da target é semelhantes entre as categorias das features plotadas\n",
    "* A fragancia mais pedida é a de rosas seguida pela de eucalipto\n",
    "* Os leads gerados estão concentrados na faixa etária de 18 a 34 anos.\n",
    "* A maior parte dos formulários é preenchdia por clientes que pratica pouca atividade física\n",
    "* A maior parte da base clientes é celíaco.\n",
    "* O comprimento dos cabelos descritos é, em sua maioria, de raíz exposta ou muito curto e de fios secos."
   ]
  },
  {
   "cell_type": "code",
   "execution_count": 307,
   "id": "dcdbc0b6-38aa-464e-a725-ebdf529ee4f9",
   "metadata": {},
   "outputs": [
    {
     "data": {
      "text/plain": [
       "BR    417142\n",
       "Name: locale, dtype: int64"
      ]
     },
     "execution_count": 307,
     "metadata": {},
     "output_type": "execute_result"
    }
   ],
   "source": [
    "# FEATURE LOCALE\n",
    "df.locale.value_counts()"
   ]
  },
  {
   "cell_type": "code",
   "execution_count": 308,
   "id": "edefc19d-9374-4389-aa28-c4c1ac2aaa5b",
   "metadata": {},
   "outputs": [],
   "source": [
    "#Coluna sem variabilidade será dropada\n",
    "df.drop('locale', axis = 1, inplace = True)"
   ]
  },
  {
   "cell_type": "code",
   "execution_count": 309,
   "id": "cb156c1f-e310-4e6e-897f-dcd0ec0b7c25",
   "metadata": {},
   "outputs": [
    {
     "data": {
      "text/plain": [
       "São Paulo, Sao Paulo              51624\n",
       "Rio de Janeiro, Rio de Janeiro    19051\n",
       "Belo Horizonte, Minas Gerais      10583\n",
       "null, null                         9821\n",
       "Brasília, Federal District         9319\n",
       "                                  ...  \n",
       "Cachoeira do Arari, Para              1\n",
       "Julio Borges, Piaui                   1\n",
       "Montividiu do Norte, Goias            1\n",
       "Rio Tinto, Paraíba                    1\n",
       "Tejupa, Sao Paulo                     1\n",
       "Name: localizacao, Length: 4622, dtype: int64"
      ]
     },
     "execution_count": 309,
     "metadata": {},
     "output_type": "execute_result"
    }
   ],
   "source": [
    "# FEATURE LOCALIZACAO\n",
    "df.localizacao.value_counts()"
   ]
  },
  {
   "cell_type": "code",
   "execution_count": 310,
   "id": "d122f82a-5536-46c2-a309-22ce20f8edec",
   "metadata": {},
   "outputs": [],
   "source": [
    "# Mesma info de cidade e estado, portanto será dropada.\n",
    "df.drop('localizacao', axis =1, inplace = True)"
   ]
  },
  {
   "cell_type": "markdown",
   "id": "a2d61313-529a-4684-bcc2-be1ec952cfec",
   "metadata": {},
   "source": [
    "efeitos_desejados     OK \n",
    "cidade                OK               \n",
    "caracteristica        OK \n",
    "estado                OK              \n",
    "procedimentos         OK    \n",
    "utm_source            OK"
   ]
  },
  {
   "cell_type": "code",
   "execution_count": 311,
   "id": "bbbf8012-eb9a-4179-9266-be88b693231c",
   "metadata": {
    "scrolled": true,
    "tags": []
   },
   "outputs": [
    {
     "data": {
      "text/plain": [
       "Facebook ads            1\n",
       "IGShopping           2960\n",
       "adwords               723\n",
       "all                     1\n",
       "blog                 1302\n",
       "copy_link               1\n",
       "cpc                     4\n",
       "email                   1\n",
       "email_sf             1631\n",
       "facebook            98107\n",
       "facebook                3\n",
       "google              35654\n",
       "incicacao              65\n",
       "influencer         126876\n",
       "instagram           20438\n",
       "linktree            23339\n",
       "meliuz                 60\n",
       "microinfluencer       766\n",
       "popup                   2\n",
       "rakuten              3068\n",
       "salesforce             42\n",
       "santander               1\n",
       "sendinblue             19\n",
       "sf_                     1\n",
       "sf_camp_email           2\n",
       "sf_email_camp       13997\n",
       "sf_email_flux         327\n",
       "sf_sms_camp            10\n",
       "sf_wpp_camp         23956\n",
       "sf_wpp_flu              4\n",
       "sf_wpp_flux          8559\n",
       "site                  605\n",
       "sms                     4\n",
       "telegram               17\n",
       "teste_source            1\n",
       "tiktok                963\n",
       "uaubox                  2\n",
       "whatsapp               24\n",
       "Name: utm_source, dtype: int64"
      ]
     },
     "execution_count": 311,
     "metadata": {},
     "output_type": "execute_result"
    }
   ],
   "source": [
    "#Feature utm_source\n",
    "df.utm_source.value_counts().sort_index()"
   ]
  },
  {
   "cell_type": "markdown",
   "id": "4b092e0b-e2ce-4219-8e45-46e811649a1e",
   "metadata": {},
   "source": [
    "* Canal por onde o cliente chegou até a empresa\n",
    "* sf_wpp_flu e sf_wpp_flux devem ser o mesmo tipo\n",
    "* facebook duplicado\n",
    "* Vários grupos são semelhantes mas estão segmentados como email, whatsapp, facebook, salesforce"
   ]
  },
  {
   "cell_type": "code",
   "execution_count": 312,
   "id": "bc40cf88-6f00-40c7-8c85-22b4a85ff0cd",
   "metadata": {},
   "outputs": [
    {
     "data": {
      "image/png": "[encoded data removed]",
      "text/plain": [
       "<Figure size 864x432 with 1 Axes>"
      ]
     },
     "metadata": {},
     "output_type": "display_data"
    }
   ],
   "source": [
    "sns.countplot(data=df, x='utm_source',hue = 'target')\n",
    "plt.xticks(rotation = 90)\n",
    "plt.show()"
   ]
  },
  {
   "cell_type": "code",
   "execution_count": 313,
   "id": "18294eab-ebfa-4d4f-abaa-98eb8e44e6fe",
   "metadata": {},
   "outputs": [
    {
     "data": {
      "text/plain": [
       "Corte agressivo                                       77776\n",
       "Todos acima                                           67556\n",
       "Tintura                                               37480\n",
       "Exposição ao sol                                      33605\n",
       "Tintura, Corte agressivo                              32510\n",
       "                                                      ...  \n",
       "Corte agressivo, Exposição ao sol, Tintura, Nenhum      135\n",
       "Exposição ao sol, Tintura, Nenhum                       120\n",
       "Exposição ao sol, Corte agressivo, Nenhum, Tintura      116\n",
       "Exposição ao sol, Tintura, Nenhum, Corte agressivo       87\n",
       "N/C                                                       3\n",
       "Name: procedimentos, Length: 66, dtype: int64"
      ]
     },
     "execution_count": 313,
     "metadata": {},
     "output_type": "execute_result"
    }
   ],
   "source": [
    "#Feature Procedimentos\n",
    "df.procedimentos.value_counts() "
   ]
  },
  {
   "cell_type": "markdown",
   "id": "625e6450-87b0-466b-a1b2-921e5fa65991",
   "metadata": {},
   "source": [
    "* Tipo de ação procedimento pelo qual o cabelo passou\n",
    "* Agrupamento de valores em checklist"
   ]
  },
  {
   "cell_type": "code",
   "execution_count": 314,
   "id": "550b3d09-7c50-4823-8421-4acff2dc82d9",
   "metadata": {},
   "outputs": [
    {
     "data": {
      "text/plain": [
       "Característica 3                                                                             113522\n",
       "Característica 7                                                                              45441\n",
       "Característica 1                                                                              39830\n",
       "Característica 3, Característica 8                                                            35497\n",
       "Característica 8                                                                              17655\n",
       "                                                                                              ...  \n",
       "Característica 1, Característica 6, Característica 3, Característica 8, Característica 10         1\n",
       "Característica 1, Característica 3, Característica 10, Característica 9, Característica 2         1\n",
       "Característica 3, Característica 4, Característica 10, Característica 8, Característica 1         1\n",
       "Característica 3, Característica 4, Característica 6, Característica 10                           1\n",
       "Característica 8, Característica 3, Característica 9, Característica 1, Característica 2          1\n",
       "Name: caracteristica, Length: 1928, dtype: int64"
      ]
     },
     "execution_count": 314,
     "metadata": {},
     "output_type": "execute_result"
    }
   ],
   "source": [
    "df.caracteristica.value_counts()"
   ]
  },
  {
   "cell_type": "markdown",
   "id": "e01029be-e15c-4cf3-a995-8b99a4d57802",
   "metadata": {},
   "source": [
    "* Características pré-determinadas do cabelo \n",
    "* Agrupamento de valores em checklist"
   ]
  },
  {
   "cell_type": "code",
   "execution_count": 315,
   "id": "af98f29a-578d-4faf-bac4-dc50a81043aa",
   "metadata": {},
   "outputs": [
    {
     "data": {
      "text/plain": [
       "Efeito 6, Efeito 7, Efeito 4, Efeito 3               6017\n",
       "Efeito 6, Efeito 7, Efeito 8, Efeito 4, Efeito 3     5801\n",
       "Efeito 6, Efeito 7, Efeito 8, Efeito 4               5162\n",
       "Efeito 7                                             4617\n",
       "Efeito 6, Efeito 2, Efeito 4, Efeito 3               3917\n",
       "                                                     ... \n",
       "Efeito 10, Efeito 3, Efeito 4, Efeito 2, Efeito 1       1\n",
       "Efeito 10, Efeito 2, Efeito 3, Efeito 4, Efeito 7       1\n",
       "Efeito 3, Efeito 5, Efeito 2, Efeito 8, Efeito 1        1\n",
       "Efeito 4, Efeito 1, Efeito 7, Efeito 2, Efeito 10       1\n",
       "Efeito 8, Efeito 10, Efeito 6, Efeito 1, Efeito 7       1\n",
       "Name: efeitos_desejados, Length: 11765, dtype: int64"
      ]
     },
     "execution_count": 315,
     "metadata": {},
     "output_type": "execute_result"
    }
   ],
   "source": [
    "df.efeitos_desejados.value_counts()"
   ]
  },
  {
   "cell_type": "markdown",
   "id": "45977f9a-e2b0-4c36-9b16-e6f212c063d3",
   "metadata": {},
   "source": [
    "* Efeitos a serem aplicados no cabelo pelo produto\n",
    "* Agrupamento de valores em checklist"
   ]
  },
  {
   "cell_type": "markdown",
   "id": "e224070a-7e2b-453f-b761-c6329c55f848",
   "metadata": {},
   "source": [
    "# Avaliação de variáveis Numéricas"
   ]
  },
  {
   "cell_type": "code",
   "execution_count": 316,
   "id": "223c48b7-542d-40f5-8c1f-c919d731ab56",
   "metadata": {},
   "outputs": [
    {
     "data": {
      "image/png": "[encoded data removed]",
      "text/plain": [
       "<Figure size 864x432 with 4 Axes>"
      ]
     },
     "metadata": {},
     "output_type": "display_data"
    }
   ],
   "source": [
    "df.hist(figsize = (12,6))\n",
    "plt.show()"
   ]
  },
  {
   "cell_type": "markdown",
   "id": "a8d97620-a8e6-423d-8b26-629846e4d37e",
   "metadata": {},
   "source": [
    "## Avaliação Target"
   ]
  },
  {
   "cell_type": "code",
   "execution_count": 317,
   "id": "fb74756d-cbf5-4dd3-9b78-18f598317944",
   "metadata": {},
   "outputs": [
    {
     "data": {
      "text/plain": [
       "0    371326\n",
       "1     45816\n",
       "Name: target, dtype: int64"
      ]
     },
     "execution_count": 317,
     "metadata": {},
     "output_type": "execute_result"
    }
   ],
   "source": [
    "df.target.value_counts()"
   ]
  },
  {
   "cell_type": "code",
   "execution_count": 318,
   "id": "1c87deb2-d0fe-4ed0-b348-108cd37abbc4",
   "metadata": {},
   "outputs": [
    {
     "data": {
      "text/plain": [
       "0    0.890167\n",
       "1    0.109833\n",
       "Name: target, dtype: float64"
      ]
     },
     "execution_count": 318,
     "metadata": {},
     "output_type": "execute_result"
    }
   ],
   "source": [
    "df.target.value_counts(normalize = True)"
   ]
  },
  {
   "cell_type": "code",
   "execution_count": 319,
   "id": "7def588a-26b2-432b-9e67-4b30ad7a9901",
   "metadata": {},
   "outputs": [],
   "source": [
    "# Conversão para binário\n",
    "df.target = df.target.astype('int')"
   ]
  },
  {
   "cell_type": "markdown",
   "id": "fd9cabd1-b772-40dc-9b9d-2b02d635d395",
   "metadata": {},
   "source": [
    "# Valores Missing"
   ]
  },
  {
   "cell_type": "code",
   "execution_count": 320,
   "id": "12341c81-0217-4489-80e5-79a87d3fbba1",
   "metadata": {},
   "outputs": [
    {
     "data": {
      "text/plain": [
       "sistema_operacional        0\n",
       "navegador              90152\n",
       "cidade                 13606\n",
       "estado                     0\n",
       "qtde_lavagem_semana        0\n",
       "utm_source             53606\n",
       "tipo_cabelo                0\n",
       "comprimento                0\n",
       "tipo_fios                  0\n",
       "procedimentos              0\n",
       "tempo_procedimento         0\n",
       "dieta                      0\n",
       "atividade_fisica           0\n",
       "frequencia_estresse        0\n",
       "caracteristica             0\n",
       "faixa_etaria               0\n",
       "efeitos_desejados        946\n",
       "fragancia                  0\n",
       "target                     0\n",
       "rec_form                   0\n",
       "rec_compra                 0\n",
       "dtype: int64"
      ]
     },
     "execution_count": 320,
     "metadata": {},
     "output_type": "execute_result"
    }
   ],
   "source": [
    "df.isna().sum()"
   ]
  },
  {
   "cell_type": "code",
   "execution_count": 321,
   "id": "9d21c3a2-c4c0-4866-bdc3-bec9d4456a2c",
   "metadata": {},
   "outputs": [],
   "source": [
    "df.dropna(axis=0, subset='estado', inplace = True)"
   ]
  },
  {
   "cell_type": "code",
   "execution_count": 322,
   "id": "1eb9c4ba-28ac-49c2-ac83-71bcc643a33f",
   "metadata": {},
   "outputs": [
    {
     "data": {
      "image/png": "[encoded data removed]",
      "text/plain": [
       "<Figure size 1800x720 with 2 Axes>"
      ]
     },
     "metadata": {},
     "output_type": "display_data"
    }
   ],
   "source": [
    "msno.matrix(df[['navegador','cidade','estado','utm_source','efeitos_desejados']])\n",
    "plt.show()"
   ]
  },
  {
   "cell_type": "markdown",
   "id": "4dac7bb6-8d91-49c1-b657-7b73f005e8dc",
   "metadata": {},
   "source": [
    "* Na coluna navegador, como são muitos valores, pode ser mais conveniente retirar a coluna inteira\n",
    "* No caso de cidade e estado, há chance de não serem features relevantes para o modelo\n",
    "* Efeitos desejados nulos podem ser substituídos por 0\n",
    "* Status do pagamento faltante apenas que o pedido nao foi realizado apesar do preenchimento do formulário, não será utilizado."
   ]
  },
  {
   "cell_type": "code",
   "execution_count": 323,
   "id": "45a06923-5b70-4600-8b0a-2e7336adc768",
   "metadata": {},
   "outputs": [],
   "source": [
    "df.dropna(axis = 0, subset='efeitos_desejados', inplace = True)"
   ]
  },
  {
   "cell_type": "markdown",
   "id": "c307e3d3-b667-45dd-a2e7-f4e590a3058d",
   "metadata": {},
   "source": [
    "# Valores Duplicados"
   ]
  },
  {
   "cell_type": "code",
   "execution_count": 324,
   "id": "d205c8df-c3c2-4768-ae6e-3e737da24677",
   "metadata": {},
   "outputs": [
    {
     "data": {
      "text/plain": [
       "0"
      ]
     },
     "execution_count": 324,
     "metadata": {},
     "output_type": "execute_result"
    }
   ],
   "source": [
    "cosmetics.duplicated().sum()"
   ]
  },
  {
   "cell_type": "code",
   "execution_count": 325,
   "id": "27cc7bc7-c5e5-4c25-a51d-662e1f8fbec7",
   "metadata": {},
   "outputs": [
    {
     "data": {
      "text/plain": [
       "3041"
      ]
     },
     "execution_count": 325,
     "metadata": {},
     "output_type": "execute_result"
    }
   ],
   "source": [
    "df.duplicated().sum()"
   ]
  },
  {
   "cell_type": "code",
   "execution_count": 326,
   "id": "c3a26033-8ba3-4c01-8f9f-4c6ec4ce2d68",
   "metadata": {},
   "outputs": [],
   "source": [
    "df.drop_duplicates(inplace = True)"
   ]
  },
  {
   "cell_type": "markdown",
   "id": "fbd64a43-98a3-403a-90f6-fe700efe2c1c",
   "metadata": {},
   "source": [
    "# Feature Engineering (1)"
   ]
  },
  {
   "cell_type": "markdown",
   "id": "5da23dd7-45cd-414e-897b-dc38f2f6d364",
   "metadata": {},
   "source": [
    "O tratamento aqui aplicado a essas features deve também ser implementado durante o deploy da aplicação para que estas features possam ser avaliadas na predição."
   ]
  },
  {
   "cell_type": "markdown",
   "id": "8da38295-2376-4d04-9804-490be51f7bc4",
   "metadata": {},
   "source": [
    "## Efeitos desejados"
   ]
  },
  {
   "cell_type": "code",
   "execution_count": 327,
   "id": "f31432ac-7647-4ae4-8732-2ad09f749f4f",
   "metadata": {},
   "outputs": [
    {
     "data": {
      "text/plain": [
       "Efeito 6, Efeito 7, Efeito 4, Efeito 3               5927\n",
       "Efeito 6, Efeito 7, Efeito 8, Efeito 4, Efeito 3     5669\n",
       "Efeito 6, Efeito 7, Efeito 8, Efeito 4               5087\n",
       "Efeito 7                                             4562\n",
       "Efeito 6, Efeito 2, Efeito 4, Efeito 3               3867\n",
       "                                                     ... \n",
       "Efeito 5, Efeito 3, Efeito 7, Efeito 8, Efeito 6        1\n",
       "Efeito 1, Efeito 4, Efeito 7, Efeito 10, Efeito 3       1\n",
       "Efeito 2, Efeito 1, Efeito 5, Efeito 10, Efeito 3       1\n",
       "Efeito 10, Efeito 4, Efeito 2, Efeito 3                 1\n",
       "Efeito 8, Efeito 10, Efeito 6, Efeito 1, Efeito 7       1\n",
       "Name: efeitos_desejados, Length: 11765, dtype: int64"
      ]
     },
     "execution_count": 327,
     "metadata": {},
     "output_type": "execute_result"
    }
   ],
   "source": [
    "df.efeitos_desejados.value_counts()"
   ]
  },
  {
   "cell_type": "code",
   "execution_count": 328,
   "id": "d660c87d-6cc2-46dc-b355-a0a9f25eccdb",
   "metadata": {},
   "outputs": [],
   "source": [
    "# Separação de efeitos por cliente em lista\n",
    "df.efeitos_desejados = df.efeitos_desejados.apply(lambda x: sorted(x.split(',')) if x != 0 else 0)"
   ]
  },
  {
   "cell_type": "code",
   "execution_count": 329,
   "id": "b34c6a3f-5e13-43cb-81b9-62b558c1aa08",
   "metadata": {},
   "outputs": [],
   "source": [
    "df.efeitos_desejados = df.efeitos_desejados.apply(lambda x: list(map(str.strip, x)))"
   ]
  },
  {
   "cell_type": "code",
   "execution_count": 330,
   "id": "0e5a206a-63ca-4495-8ab3-6d6f779a0c7a",
   "metadata": {},
   "outputs": [],
   "source": [
    "df['n_efeitos'] = df.efeitos_desejados.apply(lambda x: len(x) if type(x) == list else 0)"
   ]
  },
  {
   "cell_type": "code",
   "execution_count": 331,
   "id": "f8e60c6d-5e88-46ce-bbf4-27fdc87330d1",
   "metadata": {},
   "outputs": [],
   "source": [
    "# Função para coletar todas as possibilidades de resultado dentro da coluna\n",
    "def listar_unicos(efeitos, lista_unique):\n",
    "    if efeitos == 0:\n",
    "        return\n",
    "    for efeito in efeitos:\n",
    "        n_efeito = efeito.split(' ')[-1]\n",
    "        lista_unique.add(n_efeito)\n",
    "            "
   ]
  },
  {
   "cell_type": "code",
   "execution_count": 332,
   "id": "7a6a6a00-71c3-44cc-b6fb-6bd512c74667",
   "metadata": {},
   "outputs": [
    {
     "data": {
      "text/plain": [
       "0         None\n",
       "1         None\n",
       "2         None\n",
       "3         None\n",
       "5         None\n",
       "          ... \n",
       "419827    None\n",
       "419828    None\n",
       "419829    None\n",
       "419830    None\n",
       "419831    None\n",
       "Name: efeitos_desejados, Length: 413155, dtype: object"
      ]
     },
     "execution_count": 332,
     "metadata": {},
     "output_type": "execute_result"
    }
   ],
   "source": [
    "todos_efeitos = set()\n",
    "df.efeitos_desejados.apply(listar_unicos, args = [todos_efeitos])"
   ]
  },
  {
   "cell_type": "code",
   "execution_count": 333,
   "id": "fa9c0245-572d-4afe-b38f-a98d3d503e42",
   "metadata": {},
   "outputs": [
    {
     "data": {
      "text/plain": [
       "{'1', '10', '2', '3', '4', '5', '6', '7', '8', 'N/C'}"
      ]
     },
     "execution_count": 333,
     "metadata": {},
     "output_type": "execute_result"
    }
   ],
   "source": [
    "#Todos os efeitos possíveis\n",
    "todos_efeitos"
   ]
  },
  {
   "cell_type": "markdown",
   "id": "5e73743d-d61c-4c44-82f4-a65de4cf9358",
   "metadata": {},
   "source": [
    "Apesar da lista nao conter o efeito 9, pode ser devido a uma deficiencia no dataset mas que a característica seja válida. Portanto, será incluída entre as features dos dados."
   ]
  },
  {
   "cell_type": "code",
   "execution_count": 334,
   "id": "f0324a7a-c26b-4845-9a1b-6ac62959c315",
   "metadata": {},
   "outputs": [],
   "source": [
    "multi_efeitos = MultiLabelBinarizer()"
   ]
  },
  {
   "cell_type": "code",
   "execution_count": 335,
   "id": "086ed795-a661-4bed-88d9-13280059b767",
   "metadata": {},
   "outputs": [
    {
     "data": {
      "text/plain": [
       "(413155, 10)"
      ]
     },
     "execution_count": 335,
     "metadata": {},
     "output_type": "execute_result"
    }
   ],
   "source": [
    "(multi.fit_transform(df['efeitos_desejados'])).shape"
   ]
  },
  {
   "cell_type": "code",
   "execution_count": 58,
   "id": "9e5dcdc3-1476-4bad-8918-d63f43509856",
   "metadata": {},
   "outputs": [],
   "source": [
    "def col_efeito(efeitos, label):\n",
    "    if efeitos == 0:\n",
    "        return 0\n",
    "    elif label in efeitos:\n",
    "        return 1\n",
    "    else:\n",
    "        return 0"
   ]
  },
  {
   "cell_type": "code",
   "execution_count": 59,
   "id": "e94f7b69-3398-4828-8c0a-06adb9795006",
   "metadata": {},
   "outputs": [],
   "source": [
    "df['efeito1']  = df.efeitos_desejados.apply(col_efeito, args = ['Efeito 1'])\n",
    "df['efeito2']  = df.efeitos_desejados.apply(col_efeito, args = ['Efeito 2'])\n",
    "df['efeito3']  = df.efeitos_desejados.apply(col_efeito, args = ['Efeito 3'])\n",
    "df['efeito4']  = df.efeitos_desejados.apply(col_efeito, args = ['Efeito 4'])\n",
    "df['efeito5']  = df.efeitos_desejados.apply(col_efeito, args = ['Efeito 5'])\n",
    "df['efeito6']  = df.efeitos_desejados.apply(col_efeito, args = ['Efeito 6'])\n",
    "df['efeito7']  = df.efeitos_desejados.apply(col_efeito, args = ['Efeito 7']) \n",
    "df['efeito8']  = df.efeitos_desejados.apply(col_efeito, args = ['Efeito 8'])\n",
    "df['efeito9']  = df.efeitos_desejados.apply(col_efeito, args = ['Efeito 9'])\n",
    "df['efeito10'] = df.efeitos_desejados.apply(col_efeito, args = ['Efeito 10'])"
   ]
  },
  {
   "cell_type": "code",
   "execution_count": 62,
   "id": "f08f6a85-ccbe-4fcb-be52-8c55fefc21ae",
   "metadata": {},
   "outputs": [
    {
     "data": {
      "text/plain": [
       "<AxesSubplot:>"
      ]
     },
     "execution_count": 62,
     "metadata": {},
     "output_type": "execute_result"
    },
    {
     "data": {
      "image/png": "[encoded data removed]",
      "text/plain": [
       "<Figure size 864x432 with 2 Axes>"
      ]
     },
     "metadata": {
      "needs_background": "light"
     },
     "output_type": "display_data"
    }
   ],
   "source": [
    "# Avaliando a correlação entre os efeitos e a variável target\n",
    "plt.figure(figsize = (12,6))\n",
    "sns.heatmap(df.loc[:,['efeito1', 'efeito2', 'efeito3', 'efeito4', 'efeito5', 'efeito6', 'efeito7', 'efeito8', 'efeito10', 'target']].corr(), annot = True)"
   ]
  },
  {
   "cell_type": "markdown",
   "id": "70215f23-c443-4fa0-be58-312549c5dab4",
   "metadata": {},
   "source": [
    "## Características"
   ]
  },
  {
   "cell_type": "code",
   "execution_count": 294,
   "id": "e8575fa2-11e9-43a0-a702-eb4016994ab3",
   "metadata": {},
   "outputs": [
    {
     "data": {
      "text/plain": [
       "[Característica 3]                                                                                               112481\n",
       "[Característica 7]                                                                                                44863\n",
       "[Característica 1]                                                                                                39329\n",
       "[Característica 3, Característica 8]                                                                              35266\n",
       "[Característica 8]                                                                                                17487\n",
       "                                                                                                                  ...  \n",
       "[Característica 10, Característica 4, Característica 9, Característica 1, Característica 8]                           1\n",
       "[Característica 8, Característica 4, Característica 6]                                                                1\n",
       "[Característica 9, Característica 4, Característica 3, Característica 2, Característica 8]                            1\n",
       "[Característica 1, Característica 5, Característica 6, Característica 2, Característica 10, Característica 3]         1\n",
       "[Característica 8, Característica 3, Característica 9, Característica 1, Característica 2]                            1\n",
       "Name: caracteristica, Length: 1926, dtype: int64"
      ]
     },
     "execution_count": 294,
     "metadata": {},
     "output_type": "execute_result"
    }
   ],
   "source": [
    "df.caracteristica.value_counts()"
   ]
  },
  {
   "cell_type": "code",
   "execution_count": 280,
   "id": "9b12c802-348c-4a78-b230-b4761efc3abb",
   "metadata": {},
   "outputs": [],
   "source": [
    "# Separação de caracteristica por cliente em lista\n",
    "df.caracteristica = df.caracteristica.apply(lambda x: x.split(',') if x != 0 else 0)"
   ]
  },
  {
   "cell_type": "code",
   "execution_count": 281,
   "id": "c8e632dd-9efa-4f94-8741-e205f775fdc6",
   "metadata": {},
   "outputs": [],
   "source": [
    "df.caracteristica = df.caracteristica.apply(lambda x: list(map(str.strip, x)))"
   ]
  },
  {
   "cell_type": "code",
   "execution_count": 283,
   "id": "a6ccfc3d-c449-4888-9fdc-b7043b9a3b19",
   "metadata": {},
   "outputs": [],
   "source": [
    "df['n_caracteristicas'] = df.caracteristica.apply(lambda x: len(x) if type(x) == list else 0)"
   ]
  },
  {
   "cell_type": "code",
   "execution_count": null,
   "id": "4f52f3ee-860f-4665-baa0-f2a2641f7db6",
   "metadata": {},
   "outputs": [
    {
     "data": {
      "text/plain": [
       "0         None\n",
       "1         None\n",
       "2         None\n",
       "3         None\n",
       "5         None\n",
       "          ... \n",
       "431109    None\n",
       "431110    None\n",
       "431111    None\n",
       "431112    None\n",
       "431113    None\n",
       "Name: caracteristica, Length: 413155, dtype: object"
      ]
     },
     "execution_count": 67,
     "metadata": {},
     "output_type": "execute_result"
    }
   ],
   "source": [
    "todas_caracteristicas= set()\n",
    "df.caracteristica.apply(listar_unicos, args = [todas_caracteristicas])"
   ]
  },
  {
   "cell_type": "code",
   "execution_count": 288,
   "id": "94fe0efb-2827-41d0-922b-fb68558b4b95",
   "metadata": {},
   "outputs": [
    {
     "data": {
      "text/plain": [
       "(413155, 11)"
      ]
     },
     "execution_count": 288,
     "metadata": {},
     "output_type": "execute_result"
    }
   ],
   "source": [
    "multi_carac = MultiLabelBinarizer()\n",
    "(multi_carac.fit_transform(df.caracteristica)).shape"
   ]
  },
  {
   "cell_type": "code",
   "execution_count": 284,
   "id": "9e2eb1c2-a43b-46c4-ad71-6cf3536b0fc3",
   "metadata": {},
   "outputs": [
    {
     "data": {
      "text/plain": [
       "{'1', '10', '2', '3', '4', '5', '6', '7', '8', '9', 'N/C'}"
      ]
     },
     "execution_count": 284,
     "metadata": {},
     "output_type": "execute_result"
    }
   ],
   "source": [
    "todas_caracteristicas"
   ]
  },
  {
   "cell_type": "markdown",
   "id": "32e1aa35-2eed-416e-986e-691635e53b19",
   "metadata": {},
   "source": [
    "## Procedimentos"
   ]
  },
  {
   "cell_type": "code",
   "execution_count": 336,
   "id": "f81cf579-13ba-4561-b302-fd62d01d5a9d",
   "metadata": {},
   "outputs": [
    {
     "data": {
      "text/plain": [
       "Corte agressivo                                       76843\n",
       "Todos acima                                           66767\n",
       "Tintura                                               36981\n",
       "Exposição ao sol                                      33177\n",
       "Tintura, Corte agressivo                              32224\n",
       "                                                      ...  \n",
       "Corte agressivo, Exposição ao sol, Tintura, Nenhum      135\n",
       "Exposição ao sol, Tintura, Nenhum                       120\n",
       "Exposição ao sol, Corte agressivo, Nenhum, Tintura      116\n",
       "Exposição ao sol, Tintura, Nenhum, Corte agressivo       87\n",
       "N/C                                                       3\n",
       "Name: procedimentos, Length: 66, dtype: int64"
      ]
     },
     "execution_count": 336,
     "metadata": {},
     "output_type": "execute_result"
    }
   ],
   "source": [
    "df.procedimentos.value_counts() "
   ]
  },
  {
   "cell_type": "code",
   "execution_count": 337,
   "id": "50a161bf-f7e7-4fc5-bd1a-158a69a4063f",
   "metadata": {},
   "outputs": [],
   "source": [
    "df.procedimentos = df.procedimentos.apply(lambda x: x.split(',') if x != 0 else 0)"
   ]
  },
  {
   "cell_type": "code",
   "execution_count": 338,
   "id": "d1e7e3c7-c31e-4eb0-8b32-c9ee077a1226",
   "metadata": {},
   "outputs": [
    {
     "data": {
      "text/plain": [
       "0              [Todos acima]\n",
       "1              [Todos acima]\n",
       "2          [Corte agressivo]\n",
       "3              [Todos acima]\n",
       "5         [Exposição ao sol]\n",
       "                 ...        \n",
       "419827    [Exposição ao sol]\n",
       "419828         [Todos acima]\n",
       "419829     [Corte agressivo]\n",
       "419830     [Corte agressivo]\n",
       "419831              [Nenhum]\n",
       "Name: procedimentos, Length: 413155, dtype: object"
      ]
     },
     "execution_count": 338,
     "metadata": {},
     "output_type": "execute_result"
    }
   ],
   "source": [
    "df.procedimentos"
   ]
  },
  {
   "cell_type": "code",
   "execution_count": null,
   "id": "be8542f9-6eb1-45b3-9d92-11390a38db27",
   "metadata": {},
   "outputs": [],
   "source": [
    "def listar_unicos_2(proceds, lista_unique):\n",
    "    for proced in proceds:\n",
    "        lista_unique.add(proced.strip())"
   ]
  },
  {
   "cell_type": "code",
   "execution_count": null,
   "id": "0f1132c3-1d1f-4a10-857c-ecc709989b91",
   "metadata": {},
   "outputs": [
    {
     "data": {
      "text/plain": [
       "0         None\n",
       "1         None\n",
       "2         None\n",
       "3         None\n",
       "5         None\n",
       "          ... \n",
       "431109    None\n",
       "431110    None\n",
       "431111    None\n",
       "431112    None\n",
       "431113    None\n",
       "Name: procedimentos, Length: 413155, dtype: object"
      ]
     },
     "execution_count": 76,
     "metadata": {},
     "output_type": "execute_result"
    }
   ],
   "source": [
    "todos_proceds = set()\n",
    "df.procedimentos.apply(listar_unicos_2, args = [todos_proceds])"
   ]
  },
  {
   "cell_type": "code",
   "execution_count": 341,
   "id": "b0d259c0-abcd-4a30-bf43-17411b7a167f",
   "metadata": {},
   "outputs": [],
   "source": [
    "df.procediimentos = df.procedimentos.apply(lambda x: list(map(str.strip, x)))"
   ]
  },
  {
   "cell_type": "code",
   "execution_count": 342,
   "id": "6a6690ff-a949-4b2e-8efd-3a76cb01cca6",
   "metadata": {},
   "outputs": [
    {
     "data": {
      "text/plain": [
       "0              [Todos acima]\n",
       "1              [Todos acima]\n",
       "2          [Corte agressivo]\n",
       "3              [Todos acima]\n",
       "5         [Exposição ao sol]\n",
       "                 ...        \n",
       "419827    [Exposição ao sol]\n",
       "419828         [Todos acima]\n",
       "419829     [Corte agressivo]\n",
       "419830     [Corte agressivo]\n",
       "419831              [Nenhum]\n",
       "Name: procedimentos, Length: 413155, dtype: object"
      ]
     },
     "execution_count": 342,
     "metadata": {},
     "output_type": "execute_result"
    }
   ],
   "source": [
    "df.procedimentos"
   ]
  },
  {
   "cell_type": "code",
   "execution_count": 344,
   "id": "18bfce18-4731-4360-be28-8c3300b57cd4",
   "metadata": {},
   "outputs": [
    {
     "data": {
      "text/plain": [
       "array([[0, 0, 0, ..., 0, 0, 1],\n",
       "       [0, 0, 0, ..., 0, 0, 1],\n",
       "       [0, 0, 0, ..., 0, 0, 0],\n",
       "       ...,\n",
       "       [0, 0, 0, ..., 0, 0, 0],\n",
       "       [0, 0, 0, ..., 0, 0, 0],\n",
       "       [0, 0, 0, ..., 1, 0, 0]])"
      ]
     },
     "execution_count": 344,
     "metadata": {},
     "output_type": "execute_result"
    }
   ],
   "source": [
    "multi_proceds = MultiLabelBinarizer()\n",
    "multi_proceds.fit_transform(df.procedimentos)"
   ]
  },
  {
   "cell_type": "code",
   "execution_count": null,
   "id": "82bc4656-a26f-47cb-aa61-d2fcdf9bc76d",
   "metadata": {},
   "outputs": [],
   "source": [
    "df['corteagr']  = df.procedimentos.apply(lambda x: 1 if (('Corte agressivo' in x ) | ('Todos acima' in x)) else 0)\n",
    "df['tintura']   = df.procedimentos.apply(lambda x: 1 if (('Tintura' in x) | ('Todos acima' in x)) else 0)\n",
    "df['exposol']   = df.procedimentos.apply(lambda x: 1 if (('Exposição ao sol' in x) | ('Todos acima' in x)) else 0)"
   ]
  },
  {
   "cell_type": "code",
   "execution_count": null,
   "id": "00b67eb4-b81f-4f20-aff3-7959aa31fe9c",
   "metadata": {},
   "outputs": [],
   "source": [
    "df['n_procedimentos'] = df.corteagr + df.tintura+df.exposol"
   ]
  },
  {
   "cell_type": "code",
   "execution_count": null,
   "id": "f1237125-ee8b-41bf-b279-ee738b7cb83f",
   "metadata": {},
   "outputs": [
    {
     "data": {
      "text/plain": [
       "Index(['sistema_operacional', 'navegador', 'cidade', 'estado',\n",
       "       'qtde_lavagem_semana', 'utm_source', 'tipo_cabelo', 'comprimento',\n",
       "       'tipo_fios', 'procedimentos', 'tempo_procedimento', 'dieta',\n",
       "       'atividade_fisica', 'frequencia_estresse', 'caracteristica',\n",
       "       'faixa_etaria', 'efeitos_desejados', 'fragancia', 'target', 'rec_form',\n",
       "       'rec_compra', 'n_efeitos', 'efeito1', 'efeito2', 'efeito3', 'efeito4',\n",
       "       'efeito5', 'efeito6', 'efeito7', 'efeito8', 'efeito9', 'efeito10',\n",
       "       'n_caracteristicas', 'caracteristica1', 'caracteristica2',\n",
       "       'caracteristica3', 'caracteristica4', 'caracteristica5',\n",
       "       'caracteristica6', 'caracteristica7', 'caracteristica8',\n",
       "       'caracteristica9', 'caracteristica10', 'corteagr', 'tintura', 'exposol',\n",
       "       'n_procedimentos'],\n",
       "      dtype='object')"
      ]
     },
     "execution_count": 80,
     "metadata": {},
     "output_type": "execute_result"
    }
   ],
   "source": [
    "df.columns"
   ]
  },
  {
   "cell_type": "code",
   "execution_count": null,
   "id": "f988c2c3-006a-455a-ba3e-b009c8357fd0",
   "metadata": {},
   "outputs": [
    {
     "data": {
      "text/plain": [
       "<AxesSubplot:>"
      ]
     },
     "execution_count": 81,
     "metadata": {},
     "output_type": "execute_result"
    },
    {
     "data": {
      "image/png": "[encoded data removed]",
      "text/plain": [
       "<Figure size 864x432 with 2 Axes>"
      ]
     },
     "metadata": {
      "needs_background": "light"
     },
     "output_type": "display_data"
    }
   ],
   "source": [
    "# Avaliando a correlação entre os procedimentos e a variável target\n",
    "plt.figure(figsize = (12,6))\n",
    "sns.heatmap(df.loc[:,['corteagr', 'tintura', 'exposol',\n",
    "       'n_procedimentos', 'target']].corr(), annot = True)"
   ]
  },
  {
   "cell_type": "markdown",
   "id": "6a74c125-cba3-431b-8852-0b30559684fb",
   "metadata": {
    "tags": []
   },
   "source": [
    "## UTM Source"
   ]
  },
  {
   "cell_type": "code",
   "execution_count": null,
   "id": "0c2ea3a9-12bb-4506-8875-c5b3412c726c",
   "metadata": {},
   "outputs": [
    {
     "data": {
      "text/plain": [
       "influencer         125760\n",
       "facebook            97529\n",
       "google              35230\n",
       "sf_wpp_camp         23744\n",
       "linktree            23052\n",
       "instagram           20206\n",
       "sf_email_camp       13875\n",
       "sf_wpp_flux          8378\n",
       "rakuten              3023\n",
       "IGShopping           2927\n",
       "email_sf             1624\n",
       "blog                 1295\n",
       "tiktok                944\n",
       "microinfluencer       759\n",
       "adwords               721\n",
       "site                  604\n",
       "sf_email_flux         323\n",
       "incicacao              65\n",
       "meliuz                 54\n",
       "salesforce             42\n",
       "whatsapp               24\n",
       "sendinblue             17\n",
       "telegram               17\n",
       "sf_sms_camp            10\n",
       "cpc                     4\n",
       "sf_wpp_flu              4\n",
       "sms                     4\n",
       "facebook                3\n",
       "uaubox                  2\n",
       "popup                   2\n",
       "sf_camp_email           2\n",
       "email                   1\n",
       "copy_link               1\n",
       "Facebook ads            1\n",
       "santander               1\n",
       "all                     1\n",
       "teste_source            1\n",
       "sf_                     1\n",
       "Name: utm_source, dtype: int64"
      ]
     },
     "execution_count": 82,
     "metadata": {},
     "output_type": "execute_result"
    }
   ],
   "source": [
    "df.utm_source.value_counts()"
   ]
  },
  {
   "cell_type": "markdown",
   "id": "d281d9f7-f879-43a2-88cf-7e2251e7ed4a",
   "metadata": {},
   "source": [
    "### Agrupando categorias "
   ]
  },
  {
   "cell_type": "code",
   "execution_count": null,
   "id": "4be596ee-52d4-47d0-9ce4-9889dcfa6787",
   "metadata": {},
   "outputs": [],
   "source": [
    "df.loc[df.utm_source=='sf_wpp_flu','utm_source'] = 'sf_wpp_flux'"
   ]
  },
  {
   "cell_type": "code",
   "execution_count": null,
   "id": "5296e8ea-cef9-47e3-8b2a-1c95f41a7374",
   "metadata": {},
   "outputs": [],
   "source": [
    "df.utm_source = df.utm_source.str.strip()"
   ]
  },
  {
   "cell_type": "code",
   "execution_count": null,
   "id": "f0ffa528-7633-46e8-b2a7-1733e9bceabe",
   "metadata": {},
   "outputs": [
    {
     "data": {
      "text/plain": [
       "influencer         125760\n",
       "facebook            97532\n",
       "google              35230\n",
       "sf_wpp_camp         23744\n",
       "linktree            23052\n",
       "instagram           20206\n",
       "sf_email_camp       13875\n",
       "sf_wpp_flux          8382\n",
       "rakuten              3023\n",
       "IGShopping           2927\n",
       "email_sf             1624\n",
       "blog                 1295\n",
       "tiktok                944\n",
       "microinfluencer       759\n",
       "adwords               721\n",
       "site                  604\n",
       "sf_email_flux         323\n",
       "incicacao              65\n",
       "meliuz                 54\n",
       "salesforce             42\n",
       "whatsapp               24\n",
       "telegram               17\n",
       "sendinblue             17\n",
       "sf_sms_camp            10\n",
       "cpc                     4\n",
       "sms                     4\n",
       "sf_camp_email           2\n",
       "popup                   2\n",
       "uaubox                  2\n",
       "email                   1\n",
       "copy_link               1\n",
       "Facebook ads            1\n",
       "santander               1\n",
       "all                     1\n",
       "teste_source            1\n",
       "sf_                     1\n",
       "Name: utm_source, dtype: int64"
      ]
     },
     "execution_count": 85,
     "metadata": {},
     "output_type": "execute_result"
    }
   ],
   "source": [
    "df.utm_source.value_counts().sort_values(ascending=False)"
   ]
  },
  {
   "cell_type": "code",
   "execution_count": null,
   "id": "bd4e3a1a-5574-499e-937a-21bd5a50d6fe",
   "metadata": {},
   "outputs": [
    {
     "data": {
      "image/png": "[encoded data removed]",
      "text/plain": [
       "<Figure size 864x432 with 1 Axes>"
      ]
     },
     "metadata": {
      "needs_background": "light"
     },
     "output_type": "display_data"
    }
   ],
   "source": [
    "plt.figure(figsize=(12,6))\n",
    "plt.title('Número de clientes por canal')\n",
    "sns.countplot(data = df, x='utm_source', hue = 'target')\n",
    "plt.xticks(rotation = 45)\n",
    "plt.show()"
   ]
  },
  {
   "cell_type": "markdown",
   "id": "752e3fca-4ce1-4b13-ae6f-da75b07691db",
   "metadata": {
    "tags": []
   },
   "source": [
    "#### Instagram"
   ]
  },
  {
   "cell_type": "code",
   "execution_count": null,
   "id": "e3a39a77-3df1-45fe-8b8d-f83006342beb",
   "metadata": {},
   "outputs": [
    {
     "data": {
      "text/plain": [
       "0    0.901217\n",
       "1    0.098783\n",
       "Name: target, dtype: float64"
      ]
     },
     "execution_count": 87,
     "metadata": {},
     "output_type": "execute_result"
    }
   ],
   "source": [
    "df.loc[df.utm_source == 'instagram', 'target'].value_counts(normalize = True)"
   ]
  },
  {
   "cell_type": "code",
   "execution_count": null,
   "id": "47a23647-a711-4f27-a0be-b3dfcb54b568",
   "metadata": {},
   "outputs": [
    {
     "data": {
      "text/plain": [
       "0    0.839084\n",
       "1    0.160916\n",
       "Name: target, dtype: float64"
      ]
     },
     "execution_count": 88,
     "metadata": {},
     "output_type": "execute_result"
    }
   ],
   "source": [
    "df.loc[df.utm_source == 'IGShopping', 'target'].value_counts(normalize = True)"
   ]
  },
  {
   "cell_type": "code",
   "execution_count": null,
   "id": "1eb79e41-63ca-4428-bfca-8007ccd0dfe8",
   "metadata": {},
   "outputs": [],
   "source": [
    "df.loc[df.utm_source == 'IGShopping', 'utm_source'] = 'instagram'"
   ]
  },
  {
   "cell_type": "markdown",
   "id": "b36f659d-b8dc-4373-b6b4-e9722db6792f",
   "metadata": {
    "tags": []
   },
   "source": [
    "#### Site"
   ]
  },
  {
   "cell_type": "code",
   "execution_count": null,
   "id": "eec52994-4fe4-475f-ab2d-e006d74d6460",
   "metadata": {},
   "outputs": [],
   "source": [
    "df.loc[df.utm_source == 'popup', 'utm_source'] = 'site'"
   ]
  },
  {
   "cell_type": "code",
   "execution_count": null,
   "id": "76492df2-e369-4fd7-8c05-a790e4c6c9f5",
   "metadata": {},
   "outputs": [],
   "source": [
    "df.loc[df.utm_source == 'blog', 'utm_source'] = 'site'"
   ]
  },
  {
   "cell_type": "markdown",
   "id": "706b2087-5216-4c28-a806-62b9f8419774",
   "metadata": {
    "tags": []
   },
   "source": [
    "#### 3rd Parties"
   ]
  },
  {
   "cell_type": "code",
   "execution_count": null,
   "id": "ba8f89c0-301b-4a9c-887a-edf31b016393",
   "metadata": {},
   "outputs": [
    {
     "data": {
      "text/plain": [
       "0    0.759259\n",
       "1    0.240741\n",
       "Name: target, dtype: float64"
      ]
     },
     "execution_count": 92,
     "metadata": {},
     "output_type": "execute_result"
    }
   ],
   "source": [
    "df.loc[df.utm_source == 'meliuz', 'target'].value_counts(normalize = True)"
   ]
  },
  {
   "cell_type": "code",
   "execution_count": null,
   "id": "049091d7-f342-4360-afb1-d465001a0252",
   "metadata": {},
   "outputs": [
    {
     "data": {
      "text/plain": [
       "0    0.785714\n",
       "1    0.214286\n",
       "Name: target, dtype: float64"
      ]
     },
     "execution_count": 93,
     "metadata": {},
     "output_type": "execute_result"
    }
   ],
   "source": [
    "df.loc[df.utm_source == 'salesforce', 'target'].value_counts(normalize = True)"
   ]
  },
  {
   "cell_type": "code",
   "execution_count": null,
   "id": "a53771ba-d8d6-479f-ba11-28e0c3128a3c",
   "metadata": {},
   "outputs": [
    {
     "data": {
      "text/plain": [
       "0    1.0\n",
       "Name: target, dtype: float64"
      ]
     },
     "execution_count": 94,
     "metadata": {},
     "output_type": "execute_result"
    }
   ],
   "source": [
    "df.loc[df.utm_source == 'sf_', 'target'].value_counts(normalize = True)"
   ]
  },
  {
   "cell_type": "code",
   "execution_count": null,
   "id": "cb9abfb2-1f93-4656-b835-befaa0b6d56a",
   "metadata": {},
   "outputs": [
    {
     "data": {
      "text/plain": [
       "0    1.0\n",
       "Name: target, dtype: float64"
      ]
     },
     "execution_count": 95,
     "metadata": {},
     "output_type": "execute_result"
    }
   ],
   "source": [
    "df.loc[df.utm_source == 'sf_sms_camp', 'target'].value_counts(normalize = True)"
   ]
  },
  {
   "cell_type": "code",
   "execution_count": null,
   "id": "17c7ae29-1305-4054-b453-9e0e11d77cce",
   "metadata": {},
   "outputs": [
    {
     "data": {
      "text/plain": [
       "0    0.941176\n",
       "1    0.058824\n",
       "Name: target, dtype: float64"
      ]
     },
     "execution_count": 96,
     "metadata": {},
     "output_type": "execute_result"
    }
   ],
   "source": [
    "df.loc[df.utm_source == 'sendinblue', 'target'].value_counts(normalize = True)"
   ]
  },
  {
   "cell_type": "code",
   "execution_count": null,
   "id": "64b34c86-c74b-4d07-8a9a-d942352ab3e5",
   "metadata": {},
   "outputs": [],
   "source": [
    "df.loc[df.utm_source == 'sf_', 'utm_source'] = '3rd_parties'\n",
    "df.loc[df.utm_source == 'meliuz', 'utm_source'] = '3rd_parties'\n",
    "df.loc[df.utm_source == 'salesforce', 'utm_source'] = '3rd_parties'\n",
    "df.loc[df.utm_source == 'sf_sms_camp', 'utm_source'] = '3rd_parties'\n",
    "df.loc[df.utm_source == 'sendinblue', 'utm_source'] = '3rd_parties'\n",
    "df.loc[df.utm_source == 'uaubox', 'utm_source'] = '3rd_parties'\n",
    "df.loc[df.utm_source == 'santander', 'utm_source'] = '3rd_parties'\n",
    "df.loc[df.utm_source == 'cpc', 'utm_source'] = '3rd_parties'\n",
    "df.loc[df.utm_source == 'incicacao', 'utm_source'] = '3rd_parties'\n"
   ]
  },
  {
   "cell_type": "markdown",
   "id": "c1c781c4-33d5-49d3-9a87-8b7c8671d88c",
   "metadata": {
    "tags": []
   },
   "source": [
    "#### Facebook"
   ]
  },
  {
   "cell_type": "code",
   "execution_count": null,
   "id": "b900a4d2-af3f-4d5f-afea-87b511a46f65",
   "metadata": {},
   "outputs": [],
   "source": [
    "df.loc[df.utm_source == 'Facebook ads', 'utm_source'] = 'facebook'"
   ]
  },
  {
   "cell_type": "markdown",
   "id": "9f0a4cf3-316a-402b-b613-7a80503fcd96",
   "metadata": {
    "tags": []
   },
   "source": [
    "#### Email"
   ]
  },
  {
   "cell_type": "code",
   "execution_count": null,
   "id": "6093aa3c-4a2f-48db-b26c-d31fc00544a1",
   "metadata": {},
   "outputs": [
    {
     "data": {
      "text/plain": [
       "0    0.828396\n",
       "1    0.171604\n",
       "Name: target, dtype: float64"
      ]
     },
     "execution_count": 99,
     "metadata": {},
     "output_type": "execute_result"
    }
   ],
   "source": [
    "df.loc[df.utm_source == 'sf_email_camp', 'target'].value_counts(normalize = True)"
   ]
  },
  {
   "cell_type": "code",
   "execution_count": null,
   "id": "63832bae-6216-44b8-9966-d8f600fc80cb",
   "metadata": {},
   "outputs": [],
   "source": [
    "df.loc[df.utm_source == 'sf_email_camp', 'utm_source'] = 'email'"
   ]
  },
  {
   "cell_type": "code",
   "execution_count": null,
   "id": "a802afb2-6878-4e35-b56f-00c9193b65f7",
   "metadata": {},
   "outputs": [],
   "source": [
    "df.loc[df.utm_source == 'sf_camp_email', 'utm_source'] = 'email'"
   ]
  },
  {
   "cell_type": "code",
   "execution_count": null,
   "id": "bc03c1be-4b9f-453d-88aa-a5113c9806c6",
   "metadata": {},
   "outputs": [
    {
     "data": {
      "text/plain": [
       "0    0.885468\n",
       "1    0.114532\n",
       "Name: target, dtype: float64"
      ]
     },
     "execution_count": 102,
     "metadata": {},
     "output_type": "execute_result"
    }
   ],
   "source": [
    "df.loc[df.utm_source == 'email_sf', 'target'].value_counts(normalize = True)"
   ]
  },
  {
   "cell_type": "code",
   "execution_count": null,
   "id": "26f49d57-2386-475f-a1e1-837af865d99e",
   "metadata": {},
   "outputs": [],
   "source": [
    "df.loc[df.utm_source == 'email_sf', 'utm_source'] = 'email'"
   ]
  },
  {
   "cell_type": "code",
   "execution_count": null,
   "id": "f01173a5-2b17-47ac-991e-12b4b70f3f19",
   "metadata": {},
   "outputs": [
    {
     "data": {
      "text/plain": [
       "0    0.804954\n",
       "1    0.195046\n",
       "Name: target, dtype: float64"
      ]
     },
     "execution_count": 104,
     "metadata": {},
     "output_type": "execute_result"
    }
   ],
   "source": [
    "df.loc[df.utm_source == 'sf_email_flux', 'target'].value_counts(normalize = True)"
   ]
  },
  {
   "cell_type": "code",
   "execution_count": null,
   "id": "d2f08d04-8c7c-4ef6-8399-ebfd0c12625f",
   "metadata": {},
   "outputs": [],
   "source": [
    "df.loc[df.utm_source == 'sf_email_flux', 'utm_source'] = 'email'"
   ]
  },
  {
   "cell_type": "markdown",
   "id": "f8ad38ff-44d1-4082-be4b-eda622ca2a93",
   "metadata": {
    "tags": []
   },
   "source": [
    "#### Whatsapp"
   ]
  },
  {
   "cell_type": "code",
   "execution_count": null,
   "id": "17c63d5c-57c8-458c-a213-ff31c4a083db",
   "metadata": {},
   "outputs": [
    {
     "data": {
      "text/plain": [
       "0    0.875\n",
       "1    0.125\n",
       "Name: target, dtype: float64"
      ]
     },
     "execution_count": 106,
     "metadata": {},
     "output_type": "execute_result"
    }
   ],
   "source": [
    "df.loc[df.utm_source == 'whatsapp', 'target'].value_counts(normalize = True)"
   ]
  },
  {
   "cell_type": "code",
   "execution_count": null,
   "id": "d6883539-a3ba-4ced-9c2f-e9e5629f8c9e",
   "metadata": {},
   "outputs": [
    {
     "data": {
      "text/plain": [
       "0    0.795037\n",
       "1    0.204963\n",
       "Name: target, dtype: float64"
      ]
     },
     "execution_count": 107,
     "metadata": {},
     "output_type": "execute_result"
    }
   ],
   "source": [
    "df.loc[df.utm_source == 'sf_wpp_flux', 'target'].value_counts(normalize = True)"
   ]
  },
  {
   "cell_type": "code",
   "execution_count": null,
   "id": "4e2c0fe9-b44c-4dc8-9b54-aa3a5381b173",
   "metadata": {},
   "outputs": [],
   "source": [
    "df.loc[df.utm_source == 'sf_wpp_flux', 'utm_source'] = 'whatsapp'"
   ]
  },
  {
   "cell_type": "code",
   "execution_count": null,
   "id": "14c98808-8fa1-4d75-9f8d-40f1d74cb019",
   "metadata": {},
   "outputs": [
    {
     "data": {
      "text/plain": [
       "0    0.831789\n",
       "1    0.168211\n",
       "Name: target, dtype: float64"
      ]
     },
     "execution_count": 109,
     "metadata": {},
     "output_type": "execute_result"
    }
   ],
   "source": [
    "df.loc[df.utm_source == 'sf_wpp_camp', 'target'].value_counts(normalize = True)"
   ]
  },
  {
   "cell_type": "code",
   "execution_count": null,
   "id": "89a9290a-2236-4a2b-b427-fe8e2c26547f",
   "metadata": {},
   "outputs": [],
   "source": [
    "df.loc[df.utm_source == 'sf_wpp_camp', 'utm_source'] = 'whatsapp'"
   ]
  },
  {
   "cell_type": "code",
   "execution_count": null,
   "id": "89a09f8c-f14c-4521-8de2-ad6ec14d040d",
   "metadata": {},
   "outputs": [],
   "source": [
    "df.loc[df.utm_source == 'telegram', 'utm_source'] = 'whatsapp'"
   ]
  },
  {
   "cell_type": "markdown",
   "id": "0588394f-151a-4af2-a4d6-9a14d7a1c885",
   "metadata": {
    "tags": []
   },
   "source": [
    "#### Influencers"
   ]
  },
  {
   "cell_type": "code",
   "execution_count": null,
   "id": "5a5e35b3-f276-49b3-ab5f-e301b7d1ac74",
   "metadata": {},
   "outputs": [
    {
     "data": {
      "text/plain": [
       "0    0.919631\n",
       "1    0.080369\n",
       "Name: target, dtype: float64"
      ]
     },
     "execution_count": 112,
     "metadata": {},
     "output_type": "execute_result"
    }
   ],
   "source": [
    "df.loc[df.utm_source == 'microinfluencer', 'target'].value_counts(normalize = True)"
   ]
  },
  {
   "cell_type": "code",
   "execution_count": null,
   "id": "a6ec5f92-5d24-4b91-80ba-a5fda92bfe23",
   "metadata": {},
   "outputs": [],
   "source": [
    "df.loc[df.utm_source == 'microinfluencer', 'utm_source'] = 'influencer'"
   ]
  },
  {
   "cell_type": "code",
   "execution_count": null,
   "id": "918b92d6-4635-4c88-bb24-ab1d696f9ad8",
   "metadata": {},
   "outputs": [
    {
     "data": {
      "text/plain": [
       "0    0.88729\n",
       "1    0.11271\n",
       "Name: target, dtype: float64"
      ]
     },
     "execution_count": 114,
     "metadata": {},
     "output_type": "execute_result"
    }
   ],
   "source": [
    "df.loc[df.utm_source == 'influencer', 'target'].value_counts(normalize = True)"
   ]
  },
  {
   "cell_type": "code",
   "execution_count": null,
   "id": "44bc9b05-9ce3-42fe-8e6d-7cc843b7dd36",
   "metadata": {},
   "outputs": [],
   "source": [
    "df.dropna(subset=['utm_source'], axis = 0, inplace = True)"
   ]
  },
  {
   "cell_type": "code",
   "execution_count": null,
   "id": "27886c9a-ca6b-40a9-ae08-84d8537226da",
   "metadata": {},
   "outputs": [
    {
     "data": {
      "image/png": "[encoded data removed]",
      "text/plain": [
       "<Figure size 864x432 with 1 Axes>"
      ]
     },
     "metadata": {
      "needs_background": "light"
     },
     "output_type": "display_data"
    }
   ],
   "source": [
    "plt.figure(figsize=(12,6))\n",
    "sns.countplot(data = df, x='utm_source', hue = 'target')\n",
    "plt.title('Número de clientes por canal')\n",
    "plt.xticks(rotation = 45)\n",
    "plt.show()"
   ]
  },
  {
   "cell_type": "markdown",
   "id": "17625204-0a89-4155-8430-09f144090962",
   "metadata": {
    "tags": []
   },
   "source": [
    "### Descarte de categorias"
   ]
  },
  {
   "cell_type": "code",
   "execution_count": null,
   "id": "bdc9875d-86c6-4cec-8fdc-3eac331f0a51",
   "metadata": {},
   "outputs": [],
   "source": [
    "df.drop((df[(df.utm_source == 'all') | \n",
    "            (df.utm_source == 'copy_link') | \n",
    "            (df.utm_source == 'teste_source') | \n",
    "            (df.utm_source == 'sms')]).index, inplace=True)"
   ]
  },
  {
   "cell_type": "code",
   "execution_count": null,
   "id": "1ac81ceb-3f86-44dc-9487-07b228e1a382",
   "metadata": {},
   "outputs": [
    {
     "data": {
      "text/plain": [
       "Index(['sistema_operacional', 'navegador', 'cidade', 'estado',\n",
       "       'qtde_lavagem_semana', 'utm_source', 'tipo_cabelo', 'comprimento',\n",
       "       'tipo_fios', 'procedimentos', 'tempo_procedimento', 'dieta',\n",
       "       'atividade_fisica', 'frequencia_estresse', 'caracteristica',\n",
       "       'faixa_etaria', 'efeitos_desejados', 'fragancia', 'target', 'rec_form',\n",
       "       'rec_compra', 'n_efeitos', 'efeito1', 'efeito2', 'efeito3', 'efeito4',\n",
       "       'efeito5', 'efeito6', 'efeito7', 'efeito8', 'efeito9', 'efeito10',\n",
       "       'n_caracteristicas', 'caracteristica1', 'caracteristica2',\n",
       "       'caracteristica3', 'caracteristica4', 'caracteristica5',\n",
       "       'caracteristica6', 'caracteristica7', 'caracteristica8',\n",
       "       'caracteristica9', 'caracteristica10', 'corteagr', 'tintura', 'exposol',\n",
       "       'n_procedimentos'],\n",
       "      dtype='object')"
      ]
     },
     "execution_count": 118,
     "metadata": {},
     "output_type": "execute_result"
    }
   ],
   "source": [
    "df.columns"
   ]
  },
  {
   "cell_type": "code",
   "execution_count": null,
   "id": "21f6dc19-4656-4e30-a20b-cbf1a21109f1",
   "metadata": {},
   "outputs": [],
   "source": [
    "df.drop(['efeitos_desejados','caracteristica','procedimentos'], axis = 1, inplace = True)"
   ]
  },
  {
   "cell_type": "code",
   "execution_count": null,
   "id": "4394dcdd-760c-4ef1-99d1-1ef169d7567d",
   "metadata": {},
   "outputs": [],
   "source": [
    "df.drop(['cidade'], axis = 1, inplace = True)"
   ]
  },
  {
   "cell_type": "code",
   "execution_count": 158,
   "id": "a86d676f-bc56-40ff-8d6b-69b578f00fd0",
   "metadata": {},
   "outputs": [
    {
     "data": {
      "text/plain": [
       "(0.0, 5.0)"
      ]
     },
     "execution_count": 158,
     "metadata": {},
     "output_type": "execute_result"
    },
    {
     "data": {
      "image/png": "[encoded data removed]",
      "text/plain": [
       "<Figure size 864x432 with 1 Axes>"
      ]
     },
     "metadata": {
      "needs_background": "light"
     },
     "output_type": "display_data"
    }
   ],
   "source": [
    "sns.countplot(data=df, x='rec_compra', hue = 'target')\n",
    "plt.xlim([0,5])"
   ]
  },
  {
   "cell_type": "code",
   "execution_count": 157,
   "id": "ff5f7552-d49a-42b9-bd4b-d30b489376b3",
   "metadata": {},
   "outputs": [
    {
     "data": {
      "text/plain": [
       "(0.0, 10.0)"
      ]
     },
     "execution_count": 157,
     "metadata": {},
     "output_type": "execute_result"
    },
    {
     "data": {
      "image/png": "[encoded data removed]",
      "text/plain": [
       "<Figure size 864x432 with 1 Axes>"
      ]
     },
     "metadata": {
      "needs_background": "light"
     },
     "output_type": "display_data"
    }
   ],
   "source": [
    "sns.countplot(data=df, x='rec_form', hue = 'target')\n",
    "plt.xlim([0,10])"
   ]
  },
  {
   "cell_type": "markdown",
   "id": "db23e53f-7271-4b4e-901d-6381a1eff668",
   "metadata": {},
   "source": [
    "# Modelagem"
   ]
  },
  {
   "cell_type": "markdown",
   "id": "d274405d-3d8f-469d-9717-7c6c3f667359",
   "metadata": {},
   "source": [
    "* Foram consideradas todas as features presentes na tabela de forms, onde estão as informações comuns aos leads que compraram ou não, excetuando, inicialmente, dados de identificação e datas de ocorrência. \n",
    "\n",
    "* Foi excluída a feature de \"Locale\" por não ter variabilidade e a feature \"navegador\" por conter muitos valores faltantes. \n",
    "\n",
    "* As features features \"cidade\" e\"estado\" também foram excluídas porterem muitas categorias, aumentando a dimensionalidade do dataset devido ao One Hot Encoding e adicionar um viés de região. Além disso, após testes, o resultado do modelo com a feature estado não mostrou melhores resultados.\n",
    "\n",
    "* As features foram coletadas através de consulta SQL, filtrando todos os dados que estavam presentes na tabela **forms**\n",
    "\n",
    "* Além disso, foram criadas features para destacar a quantidade de itens contidos nas colunas multilabel como \"caracteristica\", \"procedimento\" e \"efeito\"."
   ]
  },
  {
   "cell_type": "code",
   "execution_count": null,
   "id": "a8fcb135-58cd-49f7-a192-ca37bbb8ac5a",
   "metadata": {},
   "outputs": [],
   "source": [
    "X = df.drop(['target', 'navegador','estado'], axis = 1)\n",
    "y = df.target.astype('category')"
   ]
  },
  {
   "cell_type": "code",
   "execution_count": null,
   "id": "69e2c962-6101-49aa-8305-bef95fd27c45",
   "metadata": {},
   "outputs": [],
   "source": [
    "# Features categóricas ordenáveis e não ordenáveis\n",
    "ordinal_cols = ['comprimento','faixa_etaria','frequencia_estresse', 'atividade_fisica', 'tempo_procedimento']\n",
    "ohc_cols     = ['sistema_operacional','tipo_cabelo','tipo_fios','dieta','fragancia', 'utm_source', 'estado'] "
   ]
  },
  {
   "cell_type": "code",
   "execution_count": null,
   "id": "c679c07d-2014-486f-a64d-fef0d132387f",
   "metadata": {},
   "outputs": [],
   "source": [
    "# Ordem de features ordenáveis\n",
    "\n",
    "comprimento        = ['Raíz exposta','Muito curto','Longo','Extra longo']\n",
    "faixa_etaria       = ['2 a 10','11 a 17','18 a 24','25 a 34', '35 a 44', '45 a 54', '55 a 64', '65+']\n",
    "estresse           = ['Nunca','Uma vez por mês', 'Regularmente', 'Quase sempre']\n",
    "atividade_fisica   = ['Nunca','N/C','Raramente','Frequente','Sempre']\n",
    "tempo_procedimento = ['Há 1 semana','Há 2 semanas','Há 1 mês','Há mais de 1 mês','Não houve procedimentos']"
   ]
  },
  {
   "cell_type": "markdown",
   "id": "f76d897c-7c03-462c-83fb-790be072ae46",
   "metadata": {},
   "source": [
    "## Separação treino e teste"
   ]
  },
  {
   "cell_type": "code",
   "execution_count": 124,
   "id": "59a6c7ba-269a-4d03-8048-d13e998a8ed7",
   "metadata": {},
   "outputs": [],
   "source": [
    "X_train, X_test, y_train, y_test = train_test_split(X, y, \n",
    "                                                    test_size = 0.2, \n",
    "                                                    shuffle = True,\n",
    "                                                    random_state = 42,\n",
    "                                                    stratify = y)"
   ]
  },
  {
   "cell_type": "code",
   "execution_count": 125,
   "id": "9c5cc7b1-a3bf-438e-97ba-e0fe4bd39f9d",
   "metadata": {},
   "outputs": [
    {
     "data": {
      "text/plain": [
       "Index(['sistema_operacional', 'qtde_lavagem_semana', 'utm_source',\n",
       "       'tipo_cabelo', 'comprimento', 'tipo_fios', 'tempo_procedimento',\n",
       "       'dieta', 'atividade_fisica', 'frequencia_estresse', 'faixa_etaria',\n",
       "       'fragancia', 'rec_form', 'rec_compra', 'n_efeitos', 'efeito1',\n",
       "       'efeito2', 'efeito3', 'efeito4', 'efeito5', 'efeito6', 'efeito7',\n",
       "       'efeito8', 'efeito9', 'efeito10', 'n_caracteristicas',\n",
       "       'caracteristica1', 'caracteristica2', 'caracteristica3',\n",
       "       'caracteristica4', 'caracteristica5', 'caracteristica6',\n",
       "       'caracteristica7', 'caracteristica8', 'caracteristica9',\n",
       "       'caracteristica10', 'corteagr', 'tintura', 'exposol',\n",
       "       'n_procedimentos'],\n",
       "      dtype='object')"
      ]
     },
     "execution_count": 125,
     "metadata": {},
     "output_type": "execute_result"
    }
   ],
   "source": [
    "X_train.columns"
   ]
  },
  {
   "cell_type": "markdown",
   "id": "b282ce99-66ab-46e6-8a2f-b13b1391e9a8",
   "metadata": {},
   "source": [
    "Lista de features utilizadas antes do pipeline de transformações e treinamento."
   ]
  },
  {
   "cell_type": "markdown",
   "id": "da99403f-e89b-453b-819f-4399e6167c88",
   "metadata": {},
   "source": [
    "## Feature Selection "
   ]
  },
  {
   "cell_type": "code",
   "execution_count": null,
   "id": "c3155d9f-5db8-4eb5-ae3d-8be83cf4498f",
   "metadata": {},
   "outputs": [],
   "source": [
    "rfe = RFE(estimator=DecisionTreeClassifier(class_weight = 'balanced'), n_features_to_select=40)"
   ]
  },
  {
   "cell_type": "markdown",
   "id": "a2b2493a-31a8-4162-ae4c-2d688dfabb7a",
   "metadata": {},
   "source": [
    "Os testes com feature selection mostraram que os melhores resultados foram atingidos pelo modelo quando todas as features disponíveis foram utilizadas em seu treinamento. Portanto, não foi aplicado o RFE para seleção de features no pipeline do modelo"
   ]
  },
  {
   "cell_type": "markdown",
   "id": "690eceb9-2bcc-459b-999c-fe26570aa6f8",
   "metadata": {
    "jp-MarkdownHeadingCollapsed": true,
    "tags": []
   },
   "source": [
    "## Preprocessamento (manual) dos dados"
   ]
  },
  {
   "cell_type": "code",
   "execution_count": null,
   "id": "d4f1f60a-2baf-4825-8df4-265374af5d28",
   "metadata": {},
   "outputs": [],
   "source": [
    "X = pd.get_dummies(data = X, columns = ohc_cols)"
   ]
  },
  {
   "cell_type": "code",
   "execution_count": 242,
   "id": "d079f7f5-3d41-4f23-8a4d-90e603e93242",
   "metadata": {
    "scrolled": true,
    "tags": []
   },
   "outputs": [],
   "source": [
    "oe                              = OrdinalEncoder(categories = [comprimento, faixa_etaria, estresse, atividade_fisica, tempo_procedimento])\n",
    "ohc                             = OneHotEncoder(drop = 'first', sparse = False)\n",
    "\n",
    "# Treino\n",
    "X_train.loc[:,ordinal_cols]     = oe.fit_transform(X_train[ordinal_cols])\n",
    "#X_train                         = pd.get_dummies(data = X_train, columns = ohc_cols)\n",
    "\n",
    "# Teste\n",
    "X_test.loc[:,ordinal_cols]     = oe.transform(X_test[ordinal_cols])\n",
    "#X_test                         = pd.get_dummies(data = X_test, columns = ohc_cols)"
   ]
  },
  {
   "cell_type": "markdown",
   "id": "6e5564c7-6606-4d71-a7f7-ea7e58f8de36",
   "metadata": {
    "jp-MarkdownHeadingCollapsed": true,
    "tags": []
   },
   "source": [
    "## Oversampling"
   ]
  },
  {
   "cell_type": "code",
   "execution_count": 243,
   "id": "fdddd6f2-bb1d-428b-9233-cdd9944d3e63",
   "metadata": {},
   "outputs": [],
   "source": [
    "oversampler = SMOTE(sampling_strategy=0.3)"
   ]
  },
  {
   "cell_type": "code",
   "execution_count": null,
   "id": "160955db-18ef-450f-a0cc-9fa57219a5cd",
   "metadata": {},
   "outputs": [],
   "source": [
    "X_train, y_train = oversampler.fit_resample(X_train, y_train)"
   ]
  },
  {
   "cell_type": "markdown",
   "id": "c15e1e7a-902c-4791-8be4-acb63959e7dc",
   "metadata": {
    "jp-MarkdownHeadingCollapsed": true,
    "tags": []
   },
   "source": [
    "## Undersampling"
   ]
  },
  {
   "cell_type": "code",
   "execution_count": null,
   "id": "83361c36-2227-4bce-b344-4275ade77a6d",
   "metadata": {},
   "outputs": [],
   "source": [
    "nr = NearMiss()\n",
    "ru = RandomUnderSampler(sampling_strategy = 0.4)"
   ]
  },
  {
   "cell_type": "code",
   "execution_count": null,
   "id": "3576ca1c-dc4b-4d89-86a0-b12fbe5e80b9",
   "metadata": {},
   "outputs": [],
   "source": [
    "X_train, y_train = ru.fit_sample(X_train,y_train)"
   ]
  },
  {
   "cell_type": "code",
   "execution_count": null,
   "id": "258d8ca2-7ed8-49b2-8649-25d2e6b04c0d",
   "metadata": {},
   "outputs": [],
   "source": [
    "X_test, y_test = nr.fit_sample(X_test,y_test)"
   ]
  },
  {
   "cell_type": "code",
   "execution_count": null,
   "id": "e17b94c4-ec33-44dd-9090-3c79c1b9343a",
   "metadata": {},
   "outputs": [],
   "source": [
    "y_train.value_counts(normalize=True)"
   ]
  },
  {
   "cell_type": "markdown",
   "id": "b957a869-d9d5-4a68-8a49-11fd87b3c741",
   "metadata": {},
   "source": [
    "## Baseline"
   ]
  },
  {
   "cell_type": "markdown",
   "id": "1df02629-7c95-46ba-957d-fc50dcfb5d7a",
   "metadata": {},
   "source": [
    "Considerando o disparo feito indiscriminadamente a todos os leads, vamos assumir toda a target como valores positivos."
   ]
  },
  {
   "cell_type": "code",
   "execution_count": 116,
   "id": "ee197a7d-d971-49ad-9b3f-3d817988e9e8",
   "metadata": {},
   "outputs": [],
   "source": [
    "ones = np.ones_like(y_train)"
   ]
  },
  {
   "cell_type": "code",
   "execution_count": 117,
   "id": "39c2a1f6-a06c-4fce-abc1-7c6e93d7e3af",
   "metadata": {},
   "outputs": [
    {
     "name": "stdout",
     "output_type": "stream",
     "text": [
      "Acurácia:  10.75 %\n",
      "Precisão:  10.75 %\n",
      "Recall:  100.0 %\n",
      "f1:  19.41 %\n",
      "ROC-AUC:  50.0 %\n"
     ]
    }
   ],
   "source": [
    "print('Acurácia: ', round(accuracy_score(y_train, ones)*100,2), \"%\")\n",
    "print('Precisão: ', round(precision_score(y_train, ones)*100,2), \"%\")\n",
    "print('Recall: ', round(recall_score(y_train, ones)*100,2), \"%\")\n",
    "print('f1: ', round(f1_score(y_train, ones)*100,2), \"%\")\n",
    "print('ROC-AUC: ', round(roc_auc_score(y_train, ones)*100,2), \"%\")"
   ]
  },
  {
   "cell_type": "markdown",
   "id": "bf0193b3-2619-4df8-be1b-eaa6e9823210",
   "metadata": {},
   "source": [
    "* Em resumo, apesar de todos os usuários compradores serem alcançados, apenas cerca de 11% de todos os disparos se convertem em compra. \n",
    "* A pontuação ROC AUC de 50% indicia que o método não possui nenhuma precisão na sua implementação e é simplesmente aleatório."
   ]
  },
  {
   "cell_type": "markdown",
   "id": "20305fe9-2c98-49a3-a152-43ed33440392",
   "metadata": {},
   "source": [
    "## Preparação Pipeline"
   ]
  },
  {
   "cell_type": "markdown",
   "id": "73e3b45f-827e-4015-9c45-0b0166342293",
   "metadata": {},
   "source": [
    "As técnicas de undersampling e oversampling nao foram eficientes na avaliação dos dados de teste e por isso não foram aplicadas no pipeline."
   ]
  },
  {
   "cell_type": "code",
   "execution_count": 127,
   "id": "cdf3db9b-e5f3-4464-8639-b453bd6ca987",
   "metadata": {},
   "outputs": [],
   "source": [
    "# Definição de transformadores ordinais e One-Hot-Enconding para variáveis categóricas e scaling para variáveis numéricas.\n",
    "col_transf = ColumnTransformer(transformers = [('ordinal', OrdinalEncoder(categories = [comprimento, faixa_etaria, estresse, atividade_fisica, tempo_procedimento]), ['comprimento','faixa_etaria','frequencia_estresse', 'atividade_fisica', 'tempo_procedimento']),\n",
    "                                               ('OHC', OneHotEncoder(drop = 'first'), ['sistema_operacional','tipo_cabelo','tipo_fios','dieta','fragancia', 'utm_source']),\n",
    "                                               ('Scaling', MinMaxScaler(), ['qtde_lavagem_semana','n_efeitos','n_caracteristicas', 'n_procedimentos'])]) "
   ]
  },
  {
   "cell_type": "markdown",
   "id": "4f933577-020b-443f-be86-c30ea6747778",
   "metadata": {},
   "source": [
    "Etapas do pipeline: \n",
    "* Encoding de ordenação nas variáveis de comprimento do cabelo, faixa etária, estresse, frequencia de atividade física e tempo desde o último procedimento;\n",
    "* One-hot-Encoding das variáveis de sistema operacional, tipo de cabelo, tipo de fios, dieta, fragancia, estado, e fonte de informação.\n",
    "* Normalização/Scaling das variáveis numérica de quantidade semanal de lavagens, numero de efeitos desejados, numero de procedimentos e numero de características no cabelo"
   ]
  },
  {
   "cell_type": "code",
   "execution_count": 128,
   "id": "087e56fe-1d03-4fa4-93f0-feb8e98f2fc5",
   "metadata": {},
   "outputs": [
    {
     "data": {
      "text/plain": [
       "8.296912803638827"
      ]
     },
     "execution_count": 128,
     "metadata": {},
     "output_type": "execute_result"
    }
   ],
   "source": [
    "# Coeficiente de penalidade pelo desbalanceamento de classes no algoritmo XGBOOST\n",
    "counter = Counter(y_train)\n",
    "estimate = counter[0] / counter[1]\n",
    "estimate"
   ]
  },
  {
   "cell_type": "code",
   "execution_count": 216,
   "id": "f56f997a-82c0-4105-b304-5134df9e96c9",
   "metadata": {},
   "outputs": [],
   "source": [
    "skfold = StratifiedKFold(n_splits=3, shuffle = True, random_state = 42)\n",
    "\n",
    "models = [LogisticRegression(class_weight = {0:.1, 1:.9}),\n",
    "          #KNeighborsClassifier(),\n",
    "          #GaussianNB(),\n",
    "          #SVC(class_weight={0:.2, 1:0.8}),\n",
    "          DecisionTreeClassifier(class_weight = {0:.1, 1:.9}),\n",
    "          ExtraTreeClassifier(class_weight = {0:.1, 1:.9}),\n",
    "          RandomForestClassifier(class_weight = {0:.1, 1:.9}),\n",
    "          XGBClassifier(scale_pos_weight = estimate),\n",
    "          #AdaBoostClassifier(class_weights = {0:.1, 1:.9}),\n",
    "          CatBoostClassifier(class_weights = {0:.1, 1:.9})]"
   ]
  },
  {
   "cell_type": "markdown",
   "id": "aaf38a2b-aec0-4b81-973f-69c73e2488fb",
   "metadata": {},
   "source": [
    "Foi aplicado uma validação cruzada estratificada para garantir que os dados separados preservem o desbalanceamento entre as classes target."
   ]
  },
  {
   "cell_type": "markdown",
   "id": "6f4ff4e1-b157-4436-85e4-f6d35de9430b",
   "metadata": {},
   "source": [
    "## Model Selection"
   ]
  },
  {
   "cell_type": "markdown",
   "id": "5834f8a2-6bf0-4ff1-94cc-e38c752e13e7",
   "metadata": {},
   "source": [
    "* Dada a natureza do problema, foram selecionados algoritmos de classificação entre modelos lineares e não-lineares e ensembles para avaliação da melhor performance.\n",
    "* Em todos os modelos em que foi possível, foi realizado um balanceamento da classe target modificando o peso da penalidade por erro em cada classe. Seguindo o que foi visto na distribuição da classe target, os pesos foram de aprox 10% para a classe 0 e 90% para a classe 1.\n",
    "* As técnicas de oversampling e undersampling não produziram bons resultados na testagem."
   ]
  },
  {
   "cell_type": "code",
   "execution_count": null,
   "id": "9edabaad-fc2c-4081-9dd5-8623610bd22d",
   "metadata": {
    "scrolled": true,
    "tags": []
   },
   "outputs": [],
   "source": [
    "model_scores = []\n",
    "\n",
    "for model in tqdm(models):\n",
    "    \n",
    "    pipe = Pipeline([('encoding', col_transf),\n",
    "                     ('clf', model)])\n",
    "\n",
    "    scores = cross_validate(pipe, X_train, y_train, cv = skfold, scoring = ['precision','recall','f1','roc_auc'])\n",
    "    \n",
    "    model_scores.append([model, \n",
    "                         (round(scores['test_roc_auc'].mean(),2), ' +- ', round(scores['test_roc_auc'].std(),2)), \n",
    "                         (round(scores['test_f1'].mean(),2), ' +- ', round(scores['test_f1'].std(),2)) , \n",
    "                         (round(scores['test_precision'].mean(),2), ' +- ', round(scores['test_precision'].std(),2)),\n",
    "                         (round(scores['test_recall'].mean(),2), ' +- ', round(scores['test_recall'].std(),2))\n",
    "                        ])\n",
    "\n",
    "model_results = pd.DataFrame(model_scores, columns = ['model','roc_auc','f1', 'precision','recall'])"
   ]
  },
  {
   "cell_type": "markdown",
   "id": "cd427e89-95ee-4025-ac35-f619a9faba2d",
   "metadata": {},
   "source": [
    "Para este case, como a meta principal é a redução de custos com disparos de maneira assertiva, a principal métrica avaliada para qualidade do modelo foi a AUC da curva ROC qie avalia a performance considerando a taxa de positivos falsos e verdadeiros."
   ]
  },
  {
   "cell_type": "code",
   "execution_count": 219,
   "id": "98c8c006-ff85-4de4-9413-5045679eb5a2",
   "metadata": {},
   "outputs": [
    {
     "data": {
      "text/html": [
       "<div>\n",
       "<style scoped>\n",
       "    .dataframe tbody tr th:only-of-type {\n",
       "        vertical-align: middle;\n",
       "    }\n",
       "\n",
       "    .dataframe tbody tr th {\n",
       "        vertical-align: top;\n",
       "    }\n",
       "\n",
       "    .dataframe thead th {\n",
       "        text-align: right;\n",
       "    }\n",
       "</style>\n",
       "<table border=\"1\" class=\"dataframe\">\n",
       "  <thead>\n",
       "    <tr style=\"text-align: right;\">\n",
       "      <th></th>\n",
       "      <th>model</th>\n",
       "      <th>roc_auc</th>\n",
       "      <th>f1</th>\n",
       "      <th>precision</th>\n",
       "      <th>recall</th>\n",
       "    </tr>\n",
       "  </thead>\n",
       "  <tbody>\n",
       "    <tr>\n",
       "      <th>0</th>\n",
       "      <td>LogisticRegression(class_weight={0: 0.1, 1: 0.9})</td>\n",
       "      <td>(0.67,  +- , 0.0)</td>\n",
       "      <td>(0.26,  +- , 0.0)</td>\n",
       "      <td>(0.16,  +- , 0.0)</td>\n",
       "      <td>(0.67,  +- , 0.01)</td>\n",
       "    </tr>\n",
       "    <tr>\n",
       "      <th>4</th>\n",
       "      <td>XGBClassifier(base_score=None, booster=None, c...</td>\n",
       "      <td>(0.67,  +- , 0.0)</td>\n",
       "      <td>(0.26,  +- , 0.0)</td>\n",
       "      <td>(0.17,  +- , 0.0)</td>\n",
       "      <td>(0.6,  +- , 0.0)</td>\n",
       "    </tr>\n",
       "    <tr>\n",
       "      <th>5</th>\n",
       "      <td>&lt;catboost.core.CatBoostClassifier object at 0x...</td>\n",
       "      <td>(0.66,  +- , 0.0)</td>\n",
       "      <td>(0.26,  +- , 0.0)</td>\n",
       "      <td>(0.16,  +- , 0.0)</td>\n",
       "      <td>(0.63,  +- , 0.0)</td>\n",
       "    </tr>\n",
       "    <tr>\n",
       "      <th>3</th>\n",
       "      <td>RandomForestClassifier(class_weight={0: 0.1, 1...</td>\n",
       "      <td>(0.61,  +- , 0.0)</td>\n",
       "      <td>(0.04,  +- , 0.0)</td>\n",
       "      <td>(0.1,  +- , 0.0)</td>\n",
       "      <td>(0.02,  +- , 0.0)</td>\n",
       "    </tr>\n",
       "    <tr>\n",
       "      <th>1</th>\n",
       "      <td>DecisionTreeClassifier(class_weight={0: 0.1, 1...</td>\n",
       "      <td>(0.51,  +- , 0.0)</td>\n",
       "      <td>(0.14,  +- , 0.0)</td>\n",
       "      <td>(0.13,  +- , 0.0)</td>\n",
       "      <td>(0.16,  +- , 0.0)</td>\n",
       "    </tr>\n",
       "    <tr>\n",
       "      <th>2</th>\n",
       "      <td>ExtraTreeClassifier(class_weight={0: 0.1, 1: 0...</td>\n",
       "      <td>(0.51,  +- , 0.0)</td>\n",
       "      <td>(0.14,  +- , 0.0)</td>\n",
       "      <td>(0.13,  +- , 0.0)</td>\n",
       "      <td>(0.15,  +- , 0.0)</td>\n",
       "    </tr>\n",
       "  </tbody>\n",
       "</table>\n",
       "</div>"
      ],
      "text/plain": [
       "                                               model            roc_auc  \\\n",
       "0  LogisticRegression(class_weight={0: 0.1, 1: 0.9})  (0.67,  +- , 0.0)   \n",
       "4  XGBClassifier(base_score=None, booster=None, c...  (0.67,  +- , 0.0)   \n",
       "5  <catboost.core.CatBoostClassifier object at 0x...  (0.66,  +- , 0.0)   \n",
       "3  RandomForestClassifier(class_weight={0: 0.1, 1...  (0.61,  +- , 0.0)   \n",
       "1  DecisionTreeClassifier(class_weight={0: 0.1, 1...  (0.51,  +- , 0.0)   \n",
       "2  ExtraTreeClassifier(class_weight={0: 0.1, 1: 0...  (0.51,  +- , 0.0)   \n",
       "\n",
       "                  f1          precision              recall  \n",
       "0  (0.26,  +- , 0.0)  (0.16,  +- , 0.0)  (0.67,  +- , 0.01)  \n",
       "4  (0.26,  +- , 0.0)  (0.17,  +- , 0.0)    (0.6,  +- , 0.0)  \n",
       "5  (0.26,  +- , 0.0)  (0.16,  +- , 0.0)   (0.63,  +- , 0.0)  \n",
       "3  (0.04,  +- , 0.0)   (0.1,  +- , 0.0)   (0.02,  +- , 0.0)  \n",
       "1  (0.14,  +- , 0.0)  (0.13,  +- , 0.0)   (0.16,  +- , 0.0)  \n",
       "2  (0.14,  +- , 0.0)  (0.13,  +- , 0.0)   (0.15,  +- , 0.0)  "
      ]
     },
     "execution_count": 219,
     "metadata": {},
     "output_type": "execute_result"
    }
   ],
   "source": [
    "model_results[['model','roc_auc','f1','precision','recall']].sort_values(by=['roc_auc','f1'], ascending = False)"
   ]
  },
  {
   "cell_type": "markdown",
   "id": "8b2d0f28-99f8-431c-973b-1338d8570fbc",
   "metadata": {},
   "source": [
    "* Os algoritmos que melhor performaram foram a **Regressão Logística**, **XGBoost** e **Catboost**.\n",
    "* Considerando que o algoritmo de regressão logísitca é mais simples e ainda atingiu a melhor performance, será o modelo com maior potencial para entrar em produção.\n",
    "* Os modelos não tiveram variações nos resultados durante o cross-validation, o que indica variância baixa, possivelmente devido à quantidade de dados disponíveis para elaboração do modelo.\n"
   ]
  },
  {
   "cell_type": "markdown",
   "id": "224bc4c8-aa61-463b-8242-5f4fdd62a09e",
   "metadata": {},
   "source": [
    "## Tunagem de Hiperpârametros"
   ]
  },
  {
   "cell_type": "markdown",
   "id": "b518db0c-1251-4bfb-93d5-d18e4c456530",
   "metadata": {},
   "source": [
    "### Logistic Regression"
   ]
  },
  {
   "cell_type": "code",
   "execution_count": 129,
   "id": "0f0a2068-1b42-49e0-bc7c-c737efa6ae57",
   "metadata": {},
   "outputs": [],
   "source": [
    "pipe = Pipeline([('encoding', col_transf),\n",
    "                ('clf', LogisticRegression())])"
   ]
  },
  {
   "cell_type": "code",
   "execution_count": 130,
   "id": "93d4819f-a5bf-4725-9369-d27ea29a20d4",
   "metadata": {},
   "outputs": [
    {
     "data": {
      "text/plain": [
       "Pipeline(steps=[('encoding',\n",
       "                 ColumnTransformer(transformers=[('ordinal',\n",
       "                                                  OrdinalEncoder(categories=[['Raíz '\n",
       "                                                                              'exposta',\n",
       "                                                                              'Muito '\n",
       "                                                                              'curto',\n",
       "                                                                              'Longo',\n",
       "                                                                              'Extra '\n",
       "                                                                              'longo'],\n",
       "                                                                             ['2 '\n",
       "                                                                              'a '\n",
       "                                                                              '10',\n",
       "                                                                              '11 '\n",
       "                                                                              'a '\n",
       "                                                                              '17',\n",
       "                                                                              '18 '\n",
       "                                                                              'a '\n",
       "                                                                              '24',\n",
       "                                                                              '25 '\n",
       "                                                                              'a '\n",
       "                                                                              '34',\n",
       "                                                                              '35 '\n",
       "                                                                              'a '\n",
       "                                                                              '44',\n",
       "                                                                              '45 '\n",
       "                                                                              'a '\n",
       "                                                                              '54',\n",
       "                                                                              '55 '\n",
       "                                                                              'a '\n",
       "                                                                              '64',\n",
       "                                                                              '65+'],\n",
       "                                                                             ['Nunca',\n",
       "                                                                              'Uma '\n",
       "                                                                              'vez '\n",
       "                                                                              'por '\n",
       "                                                                              'mês',\n",
       "                                                                              'Regularmente',\n",
       "                                                                              'Quase '\n",
       "                                                                              'sempre'],\n",
       "                                                                             ['Nunca',\n",
       "                                                                              'N/C',\n",
       "                                                                              'Raramente',\n",
       "                                                                              'Frequente',\n",
       "                                                                              'Sem...\n",
       "                                                                              'procedimentos']]),\n",
       "                                                  ['comprimento',\n",
       "                                                   'faixa_etaria',\n",
       "                                                   'frequencia_estresse',\n",
       "                                                   'atividade_fisica',\n",
       "                                                   'tempo_procedimento']),\n",
       "                                                 ('OHC',\n",
       "                                                  OneHotEncoder(drop='first'),\n",
       "                                                  ['sistema_operacional',\n",
       "                                                   'tipo_cabelo', 'tipo_fios',\n",
       "                                                   'dieta', 'fragancia',\n",
       "                                                   'utm_source']),\n",
       "                                                 ('Scaling', MinMaxScaler(),\n",
       "                                                  ['qtde_lavagem_semana',\n",
       "                                                   'n_efeitos',\n",
       "                                                   'n_caracteristicas',\n",
       "                                                   'n_procedimentos'])])),\n",
       "                ('clf', LogisticRegression())])"
      ]
     },
     "execution_count": 130,
     "metadata": {},
     "output_type": "execute_result"
    }
   ],
   "source": [
    "pipe.fit(X_train, y_train)"
   ]
  },
  {
   "cell_type": "code",
   "execution_count": 280,
   "id": "b3b2474b-ef76-4ca3-a0c4-6abdcc0c8ef7",
   "metadata": {},
   "outputs": [],
   "source": [
    "weights = np.linspace(.9,.99,200)\n",
    "param_grid = {'clf__class_weight': [{0:(1-w1), 1:w1} for w1 in weights],\n",
    "              'clf__C': [1,1.5,2.5,3,3.5,4],\n",
    "              'clf__max_iter':[100,200,300,400]}"
   ]
  },
  {
   "cell_type": "markdown",
   "id": "d06827fc-fd6f-417e-94a2-1a02dfb65ab6",
   "metadata": {},
   "source": [
    "Foram testadiferentes variações de balanceamento de classes, parametro de regularização e o número de iterações máximas para convergência da função de perda do algoritmo."
   ]
  },
  {
   "cell_type": "code",
   "execution_count": 281,
   "id": "a49c5a1e-fe6b-4129-a918-4813ad9065a9",
   "metadata": {},
   "outputs": [],
   "source": [
    "rsearch = RandomizedSearchCV(pipe, param_grid, scoring = 'roc_auc', cv = skfold, n_iter = 50)"
   ]
  },
  {
   "cell_type": "code",
   "execution_count": null,
   "id": "d941cab3-9b33-4c81-b10e-fb3ca4e83955",
   "metadata": {},
   "outputs": [],
   "source": [
    "rsearch.fit(X_train, y_train)"
   ]
  },
  {
   "cell_type": "code",
   "execution_count": 286,
   "id": "6bbb5a35-e85d-42ab-8585-29b712229c73",
   "metadata": {},
   "outputs": [
    {
     "name": "stdout",
     "output_type": "stream",
     "text": [
      "Melhores parametros:  {'clf__max_iter': 300, 'clf__class_weight': {0: 0.06924623115577888, 1: 0.9307537688442211}, 'clf__C': 3} \n",
      "Melhor AUC-Score:  0.6679754104194146\n"
     ]
    }
   ],
   "source": [
    "print('Melhores parametros: ', rsearch.best_params_,'\\nMelhor AUC-Score: ', rsearch.best_score_)"
   ]
  },
  {
   "cell_type": "markdown",
   "id": "0f05bc36-84e7-4880-bc62-9fdc434ba122",
   "metadata": {},
   "source": [
    "##  Testagem"
   ]
  },
  {
   "cell_type": "code",
   "execution_count": 131,
   "id": "8457b5be-abc4-4532-b361-9a47a5ba5098",
   "metadata": {},
   "outputs": [],
   "source": [
    "pipe = Pipeline([('encoding', col_transf),\n",
    "                ('clf', LogisticRegression(max_iter = 300, \n",
    "                                           class_weight = {0: 0.06924623115577888, 1: 0.9307537688442211}, \n",
    "                                           C=3\n",
    "                ))])"
   ]
  },
  {
   "cell_type": "code",
   "execution_count": 132,
   "id": "8d221db7-d4cf-48f1-bb52-ea84b4002fcd",
   "metadata": {},
   "outputs": [
    {
     "name": "stdout",
     "output_type": "stream",
     "text": [
      "\n"
     ]
    }
   ],
   "source": [
    "pipe.fit(X_train, y_train)\n",
    "print()"
   ]
  },
  {
   "cell_type": "markdown",
   "id": "ead6c3b4-4690-4047-bcb4-794bfa9ddf56",
   "metadata": {},
   "source": [
    "### Matriz de confusão"
   ]
  },
  {
   "cell_type": "code",
   "execution_count": 136,
   "id": "707323cc-232e-43bf-bc3c-db147ea5dd7d",
   "metadata": {},
   "outputs": [
    {
     "data": {
      "image/png": "[encoded data removed]",
      "text/plain": [
       "<Figure size 864x432 with 2 Axes>"
      ]
     },
     "metadata": {
      "needs_background": "light"
     },
     "output_type": "display_data"
    }
   ],
   "source": [
    "plot_confusion_matrix(pipe, X_test, y_test, normalize = 'all')\n",
    "plt.title('Matriz de confusão')\n",
    "plt.show()"
   ]
  },
  {
   "cell_type": "code",
   "execution_count": 135,
   "id": "1655658a-7d6e-4345-a297-d3e50a1a9853",
   "metadata": {},
   "outputs": [
    {
     "data": {
      "text/plain": [
       "Index(['sistema_operacional', 'qtde_lavagem_semana', 'utm_source',\n",
       "       'tipo_cabelo', 'comprimento', 'tipo_fios', 'tempo_procedimento',\n",
       "       'dieta', 'atividade_fisica', 'frequencia_estresse', 'faixa_etaria',\n",
       "       'fragancia', 'rec_form', 'rec_compra', 'n_efeitos', 'efeito1',\n",
       "       'efeito2', 'efeito3', 'efeito4', 'efeito5', 'efeito6', 'efeito7',\n",
       "       'efeito8', 'efeito9', 'efeito10', 'n_caracteristicas',\n",
       "       'caracteristica1', 'caracteristica2', 'caracteristica3',\n",
       "       'caracteristica4', 'caracteristica5', 'caracteristica6',\n",
       "       'caracteristica7', 'caracteristica8', 'caracteristica9',\n",
       "       'caracteristica10', 'corteagr', 'tintura', 'exposol',\n",
       "       'n_procedimentos'],\n",
       "      dtype='object')"
      ]
     },
     "execution_count": 135,
     "metadata": {},
     "output_type": "execute_result"
    }
   ],
   "source": [
    "X_test.columns"
   ]
  },
  {
   "cell_type": "markdown",
   "id": "1c1b9fd2-0063-46c6-a3d4-9d8b1986e2d2",
   "metadata": {},
   "source": [
    "* O resultado do teste mostra que há 87% de acerto no disparo de mensagens para leads compradores. \n",
    "* Ao mesmo tempo, o resultado é alcançado com cerca de 29% a menos de mensagens enviadas para leads não compradores."
   ]
  },
  {
   "cell_type": "markdown",
   "id": "8bcc7960-9f03-4f16-aacf-1c235f6c8e99",
   "metadata": {},
   "source": [
    "### Curva ROC"
   ]
  },
  {
   "cell_type": "code",
   "execution_count": 456,
   "id": "cb1ab4fd-568f-453a-847b-2acfcad799c7",
   "metadata": {},
   "outputs": [
    {
     "data": {
      "image/png": "[encoded data removed]",
      "text/plain": [
       "<Figure size 864x432 with 1 Axes>"
      ]
     },
     "metadata": {
      "needs_background": "light"
     },
     "output_type": "display_data"
    }
   ],
   "source": [
    "plot_roc_curve(pipe,X_test, y_test)\n",
    "plt.title('Curva ROC')\n",
    "plt.show()"
   ]
  },
  {
   "cell_type": "markdown",
   "id": "f3979f45-240b-486b-b9d9-e7186305eb6b",
   "metadata": {},
   "source": [
    "* O modelo atingiu a métrica de 67% na métrica de ponderação (AUC) entre leads compradores e leads não compradores que receberão mensagens. O resultado é um acréscimo de 17% em relação ao que era realizado inicialmente."
   ]
  },
  {
   "cell_type": "code",
   "execution_count": 453,
   "id": "fe128438-6290-4dde-a48e-ea5dffb993aa",
   "metadata": {},
   "outputs": [],
   "source": [
    "y_pred = pipe.predict(X_test)"
   ]
  },
  {
   "cell_type": "code",
   "execution_count": 454,
   "id": "44d31e83-a451-4385-b205-7839b8af20e9",
   "metadata": {},
   "outputs": [
    {
     "name": "stdout",
     "output_type": "stream",
     "text": [
      "              precision    recall  f1-score   support\n",
      "\n",
      "           0       0.95      0.32      0.48     64206\n",
      "           1       0.13      0.87      0.23      7748\n",
      "\n",
      "    accuracy                           0.38     71954\n",
      "   macro avg       0.54      0.60      0.36     71954\n",
      "weighted avg       0.86      0.38      0.45     71954\n",
      "\n"
     ]
    }
   ],
   "source": [
    "print(classification_report(y_test, y_pred))"
   ]
  },
  {
   "cell_type": "markdown",
   "id": "b3b2277b-dbdc-466e-8b10-6d780a0452fe",
   "metadata": {},
   "source": [
    "## Importância de Features"
   ]
  },
  {
   "cell_type": "code",
   "execution_count": 380,
   "id": "6c03ba1c-6040-420a-94cc-eb863589cebf",
   "metadata": {},
   "outputs": [],
   "source": [
    "r = permutation_importance(pipe, X_test, y_test,\n",
    "                           n_repeats=30,\n",
    "                           random_state=0)"
   ]
  },
  {
   "cell_type": "code",
   "execution_count": 381,
   "id": "c7438e2e-377d-464e-b934-f8fa528fd997",
   "metadata": {},
   "outputs": [
    {
     "name": "stdout",
     "output_type": "stream",
     "text": [
      "utm_source0.019 +/- 0.001\n",
      "sistema_operacional0.009 +/- 0.001\n",
      "faixa_etaria0.005 +/- 0.001\n",
      "dieta   0.003 +/- 0.001\n",
      "n_efeitos0.001 +/- 0.001\n",
      "tipo_cabelo0.001 +/- 0.000\n",
      "n_caracteristicas0.001 +/- 0.000\n",
      "tempo_procedimento0.000 +/- 0.000\n",
      "tipo_fios0.000 +/- 0.000\n",
      "frequencia_estresse0.000 +/- 0.000\n",
      "qtde_lavagem_semana0.000 +/- 0.000\n"
     ]
    }
   ],
   "source": [
    "for i in r.importances_mean.argsort()[::-1]:\n",
    "        if r.importances_mean[i]  >0:\n",
    "            print(f\"{X_train.columns[i]:<8}\"\n",
    "                  f\"{r.importances_mean[i]:.3f}\"\n",
    "                  f\" +/- {r.importances_std[i]:.3f}\")"
   ]
  },
  {
   "cell_type": "code",
   "execution_count": 384,
   "id": "ceaa97b0-cc2b-47f4-8c30-3b667ea966d2",
   "metadata": {},
   "outputs": [],
   "source": [
    "p_imp = pd.Series(r.importances_mean, index = X_test.columns)\n",
    "p_imp.sort_values(ascending = False, inplace = True)"
   ]
  },
  {
   "cell_type": "code",
   "execution_count": 385,
   "id": "0782ba0f-6a0b-4f4b-a000-635f709f188c",
   "metadata": {},
   "outputs": [
    {
     "data": {
      "image/png": "[encoded data removed]",
      "text/plain": [
       "<Figure size 1152x288 with 1 Axes>"
      ]
     },
     "metadata": {
      "needs_background": "light"
     },
     "output_type": "display_data"
    }
   ],
   "source": [
    "plt.figure(figsize=(16,4))\n",
    "sns.barplot(x=p_imp.index, y= p_imp.values)\n",
    "plt.xticks(rotation = 90)\n",
    "plt.title('Permutation Feature Importances')\n",
    "plt.show()"
   ]
  },
  {
   "cell_type": "markdown",
   "id": "dc1e3ebf-bac1-41b5-9d7a-57381d1b79ac",
   "metadata": {},
   "source": [
    "As features tem pouco poder preditivo isoladamente, sendo as features de canal de contato e faixa etária as mais representativas com menos de 2% de explicabilidade cada."
   ]
  },
  {
   "cell_type": "markdown",
   "id": "b741af52-1da6-45d3-8c69-52449e9d1e9d",
   "metadata": {},
   "source": [
    "## Resultado Econômico do projeto "
   ]
  },
  {
   "cell_type": "markdown",
   "id": "770b554d-ba16-4459-8a67-7149ce033953",
   "metadata": {},
   "source": [
    "* A média de preço por disparo no WhatsApp é de cerca de R\\\\$ 0.12. Considerando que por mês, em média, são preenchidos 72.000 formulários, o aumento na assertividade dos disparos com a redução de 29% nos envios pode gerar uma economia de R\\\\$ 2.505,60/mês para a empresa, mantendo ainda uma taxa de acerto nos disparos de 87% para leads que são compradores."
   ]
  },
  {
   "cell_type": "markdown",
   "id": "afc9e94d-41ac-447b-8398-e6aeca8acb89",
   "metadata": {},
   "source": [
    "# Gerando arquivo pkl do modelo"
   ]
  },
  {
   "cell_type": "code",
   "execution_count": 430,
   "id": "aef41c6d-a14d-4f4a-83f2-b3615e75956b",
   "metadata": {},
   "outputs": [],
   "source": [
    "with open('../model.pkl', 'wb') as file:\n",
    "    pickle.dump(pipe, file)"
   ]
  }
 ],
 "metadata": {
  "kernelspec": {
   "display_name": "Python 3 (ipykernel)",
   "language": "python",
   "name": "python3"
  },
  "language_info": {
   "codemirror_mode": {
    "name": "ipython",
    "version": 3
   },
   "file_extension": ".py",
   "mimetype": "text/x-python",
   "name": "python",
   "nbconvert_exporter": "python",
   "pygments_lexer": "ipython3",
   "version": "3.10.4"
  },
  "toc-autonumbering": true
 },
 "nbformat": 4,
 "nbformat_minor": 5
}
